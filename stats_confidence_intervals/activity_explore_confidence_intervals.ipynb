{
 "cells": [
  {
   "cell_type": "markdown",
   "metadata": {
    "id": "d25eed62-5910-4d10-a976-c18c4f7d99f7"
   },
   "source": [
    "# Activity: Explore confidence intervals"
   ]
  },
  {
   "cell_type": "markdown",
   "metadata": {
    "id": "b50579ec-09df-4bb1-ad5a-d28f4790ca16"
   },
   "source": [
    "## Introduction"
   ]
  },
  {
   "cell_type": "markdown",
   "metadata": {
    "id": "6a8992ac-22d5-41db-aa09-263b464950e0"
   },
   "source": [
    "The Air Quality Index (AQI) is the Environmental Protection Agency's index for reporting air quality. A value close to 0 signals little to no public health concern, while higher values are associated with increased risk to public health. The United States is considering a new federal policy that would create a subsidy for renewable energy in states observing an average AQI of 10 or above. <br>\n",
    "\n",
    "You've just started your new role as a data analyst in the Strategy division of Ripple Renewable Energy (RRE). **RRE operates in the following U.S. states: `California`, `Florida`, `Michigan`, `Ohio`, `Pennsylvania`, `Texas`.** You've been tasked with constructing an analysis which identifies which of these states are most likely to be affected, should the new federal policy be enacted."
   ]
  },
  {
   "cell_type": "markdown",
   "metadata": {
    "id": "6e4e3b8a-b5f9-4fe1-a824-0bd3aece693c"
   },
   "source": [
    "Your manager has requested that you do the following for your analysis:\n",
    "1. Provide a summary of the mean AQI for the states in which RRE operates.\n",
    "2. Construct a boxplot visualization for AQI of these states using `seaborn`.\n",
    "3. Evaluate which state(s) may be most affected by this policy, based on the data and your boxplot visualization.\n",
    "4. Construct a confidence interval for the RRE state with the highest mean AQI."
   ]
  },
  {
   "cell_type": "markdown",
   "metadata": {
    "id": "3b4dc9a5-d724-4696-a704-57fefa9d5938"
   },
   "source": [
    "## Step 1: Imports\n",
    "\n",
    "### Import packages\n",
    "\n",
    "Import `pandas` and `numpy`."
   ]
  },
  {
   "cell_type": "code",
   "execution_count": 29,
   "metadata": {
    "id": "0b3d0e1c-23b9-4491-82a5-ac1e4bd36f30"
   },
   "outputs": [],
   "source": [
    "# Import relevant packages\n",
    "import pandas as pd\n",
    "import numpy as np\n",
    "import matplotlib.pyplot as plt"
   ]
  },
  {
   "cell_type": "markdown",
   "metadata": {
    "id": "a4f7c0d0-027e-475a-bce5-ad96d059cd04"
   },
   "source": [
    "### Load the dataset\n",
    "\n",
    "The dataset provided gives national Air Quality Index (AQI) measurements by state over time.  `Pandas` is used to import the file `c4_epa_air_quality.csv` as a DataFrame named `aqi`. As shown in this cell, the dataset has been automatically loaded in for you. You do not need to download the .csv file, or provide more code, in order to access the dataset and proceed with this lab. Please continue with this activity by completing the following instructions.\n",
    "\n",
    "*Note: For the purposes of your analysis, you can assume this data is randomly sampled from a larger population.*"
   ]
  },
  {
   "cell_type": "code",
   "execution_count": 2,
   "metadata": {
    "id": "1ce82ed7-cf32-4028-ac77-a377e7638458",
    "tags": []
   },
   "outputs": [],
   "source": [
    "# Ingest data\n",
    "aqi = pd.read_csv('c4_epa_air_quality.csv', index_col=0)"
   ]
  },
  {
   "cell_type": "markdown",
   "metadata": {
    "id": "JLW4ftpm15LA"
   },
   "source": [
    "## Step 2: Data exploration"
   ]
  },
  {
   "cell_type": "markdown",
   "metadata": {
    "id": "c1ee0813-5e74-4564-8ea1-8d724700754a"
   },
   "source": [
    "### Explore your dataset\n",
    "\n",
    "Before proceeding to your deliverables, spend some time exploring the `aqi` DataFrame. "
   ]
  },
  {
   "cell_type": "code",
   "execution_count": 3,
   "metadata": {
    "id": "0444122d-6fba-4051-8b09-b15392aacebf"
   },
   "outputs": [
    {
     "data": {
      "text/html": [
       "<div>\n",
       "<style scoped>\n",
       "    .dataframe tbody tr th:only-of-type {\n",
       "        vertical-align: middle;\n",
       "    }\n",
       "\n",
       "    .dataframe tbody tr th {\n",
       "        vertical-align: top;\n",
       "    }\n",
       "\n",
       "    .dataframe thead th {\n",
       "        text-align: right;\n",
       "    }\n",
       "</style>\n",
       "<table border=\"1\" class=\"dataframe\">\n",
       "  <thead>\n",
       "    <tr style=\"text-align: right;\">\n",
       "      <th></th>\n",
       "      <th>date_local</th>\n",
       "      <th>state_name</th>\n",
       "      <th>county_name</th>\n",
       "      <th>city_name</th>\n",
       "      <th>local_site_name</th>\n",
       "      <th>parameter_name</th>\n",
       "      <th>units_of_measure</th>\n",
       "      <th>arithmetic_mean</th>\n",
       "      <th>aqi</th>\n",
       "    </tr>\n",
       "  </thead>\n",
       "  <tbody>\n",
       "    <tr>\n",
       "      <th>0</th>\n",
       "      <td>2018-01-01</td>\n",
       "      <td>Arizona</td>\n",
       "      <td>Maricopa</td>\n",
       "      <td>Buckeye</td>\n",
       "      <td>BUCKEYE</td>\n",
       "      <td>Carbon monoxide</td>\n",
       "      <td>Parts per million</td>\n",
       "      <td>0.473684</td>\n",
       "      <td>7</td>\n",
       "    </tr>\n",
       "    <tr>\n",
       "      <th>1</th>\n",
       "      <td>2018-01-01</td>\n",
       "      <td>Ohio</td>\n",
       "      <td>Belmont</td>\n",
       "      <td>Shadyside</td>\n",
       "      <td>Shadyside</td>\n",
       "      <td>Carbon monoxide</td>\n",
       "      <td>Parts per million</td>\n",
       "      <td>0.263158</td>\n",
       "      <td>5</td>\n",
       "    </tr>\n",
       "    <tr>\n",
       "      <th>2</th>\n",
       "      <td>2018-01-01</td>\n",
       "      <td>Wyoming</td>\n",
       "      <td>Teton</td>\n",
       "      <td>Not in a city</td>\n",
       "      <td>Yellowstone National Park - Old Faithful Snow ...</td>\n",
       "      <td>Carbon monoxide</td>\n",
       "      <td>Parts per million</td>\n",
       "      <td>0.111111</td>\n",
       "      <td>2</td>\n",
       "    </tr>\n",
       "    <tr>\n",
       "      <th>3</th>\n",
       "      <td>2018-01-01</td>\n",
       "      <td>Pennsylvania</td>\n",
       "      <td>Philadelphia</td>\n",
       "      <td>Philadelphia</td>\n",
       "      <td>North East Waste (NEW)</td>\n",
       "      <td>Carbon monoxide</td>\n",
       "      <td>Parts per million</td>\n",
       "      <td>0.300000</td>\n",
       "      <td>3</td>\n",
       "    </tr>\n",
       "    <tr>\n",
       "      <th>4</th>\n",
       "      <td>2018-01-01</td>\n",
       "      <td>Iowa</td>\n",
       "      <td>Polk</td>\n",
       "      <td>Des Moines</td>\n",
       "      <td>CARPENTER</td>\n",
       "      <td>Carbon monoxide</td>\n",
       "      <td>Parts per million</td>\n",
       "      <td>0.215789</td>\n",
       "      <td>3</td>\n",
       "    </tr>\n",
       "  </tbody>\n",
       "</table>\n",
       "</div>"
      ],
      "text/plain": [
       "   date_local    state_name   county_name      city_name  \\\n",
       "0  2018-01-01       Arizona      Maricopa        Buckeye   \n",
       "1  2018-01-01          Ohio       Belmont      Shadyside   \n",
       "2  2018-01-01       Wyoming         Teton  Not in a city   \n",
       "3  2018-01-01  Pennsylvania  Philadelphia   Philadelphia   \n",
       "4  2018-01-01          Iowa          Polk     Des Moines   \n",
       "\n",
       "                                     local_site_name   parameter_name  \\\n",
       "0                                            BUCKEYE  Carbon monoxide   \n",
       "1                                          Shadyside  Carbon monoxide   \n",
       "2  Yellowstone National Park - Old Faithful Snow ...  Carbon monoxide   \n",
       "3                             North East Waste (NEW)  Carbon monoxide   \n",
       "4                                          CARPENTER  Carbon monoxide   \n",
       "\n",
       "    units_of_measure  arithmetic_mean  aqi  \n",
       "0  Parts per million         0.473684    7  \n",
       "1  Parts per million         0.263158    5  \n",
       "2  Parts per million         0.111111    2  \n",
       "3  Parts per million         0.300000    3  \n",
       "4  Parts per million         0.215789    3  "
      ]
     },
     "execution_count": 3,
     "metadata": {},
     "output_type": "execute_result"
    }
   ],
   "source": [
    "# Explore your DataFrame `aqi`.\n",
    "aqi.head()"
   ]
  },
  {
   "cell_type": "code",
   "execution_count": 4,
   "id": "d26a3564",
   "metadata": {},
   "outputs": [
    {
     "name": "stdout",
     "output_type": "stream",
     "text": [
      "<class 'pandas.core.frame.DataFrame'>\n",
      "Index: 260 entries, 0 to 259\n",
      "Data columns (total 9 columns):\n",
      " #   Column            Non-Null Count  Dtype  \n",
      "---  ------            --------------  -----  \n",
      " 0   date_local        260 non-null    object \n",
      " 1   state_name        260 non-null    object \n",
      " 2   county_name       260 non-null    object \n",
      " 3   city_name         260 non-null    object \n",
      " 4   local_site_name   257 non-null    object \n",
      " 5   parameter_name    260 non-null    object \n",
      " 6   units_of_measure  260 non-null    object \n",
      " 7   arithmetic_mean   260 non-null    float64\n",
      " 8   aqi               260 non-null    int64  \n",
      "dtypes: float64(1), int64(1), object(7)\n",
      "memory usage: 20.3+ KB\n"
     ]
    }
   ],
   "source": [
    "aqi.info()"
   ]
  },
  {
   "cell_type": "code",
   "execution_count": 5,
   "id": "cfc8cb47",
   "metadata": {},
   "outputs": [
    {
     "data": {
      "text/html": [
       "<div>\n",
       "<style scoped>\n",
       "    .dataframe tbody tr th:only-of-type {\n",
       "        vertical-align: middle;\n",
       "    }\n",
       "\n",
       "    .dataframe tbody tr th {\n",
       "        vertical-align: top;\n",
       "    }\n",
       "\n",
       "    .dataframe thead th {\n",
       "        text-align: right;\n",
       "    }\n",
       "</style>\n",
       "<table border=\"1\" class=\"dataframe\">\n",
       "  <thead>\n",
       "    <tr style=\"text-align: right;\">\n",
       "      <th></th>\n",
       "      <th>date_local</th>\n",
       "      <th>state_name</th>\n",
       "      <th>county_name</th>\n",
       "      <th>city_name</th>\n",
       "      <th>local_site_name</th>\n",
       "      <th>parameter_name</th>\n",
       "      <th>units_of_measure</th>\n",
       "      <th>arithmetic_mean</th>\n",
       "      <th>aqi</th>\n",
       "    </tr>\n",
       "  </thead>\n",
       "  <tbody>\n",
       "    <tr>\n",
       "      <th>count</th>\n",
       "      <td>260</td>\n",
       "      <td>260</td>\n",
       "      <td>260</td>\n",
       "      <td>260</td>\n",
       "      <td>257</td>\n",
       "      <td>260</td>\n",
       "      <td>260</td>\n",
       "      <td>260.000000</td>\n",
       "      <td>260.000000</td>\n",
       "    </tr>\n",
       "    <tr>\n",
       "      <th>unique</th>\n",
       "      <td>1</td>\n",
       "      <td>52</td>\n",
       "      <td>149</td>\n",
       "      <td>190</td>\n",
       "      <td>253</td>\n",
       "      <td>1</td>\n",
       "      <td>1</td>\n",
       "      <td>NaN</td>\n",
       "      <td>NaN</td>\n",
       "    </tr>\n",
       "    <tr>\n",
       "      <th>top</th>\n",
       "      <td>2018-01-01</td>\n",
       "      <td>California</td>\n",
       "      <td>Los Angeles</td>\n",
       "      <td>Not in a city</td>\n",
       "      <td>Kapolei</td>\n",
       "      <td>Carbon monoxide</td>\n",
       "      <td>Parts per million</td>\n",
       "      <td>NaN</td>\n",
       "      <td>NaN</td>\n",
       "    </tr>\n",
       "    <tr>\n",
       "      <th>freq</th>\n",
       "      <td>260</td>\n",
       "      <td>66</td>\n",
       "      <td>14</td>\n",
       "      <td>21</td>\n",
       "      <td>2</td>\n",
       "      <td>260</td>\n",
       "      <td>260</td>\n",
       "      <td>NaN</td>\n",
       "      <td>NaN</td>\n",
       "    </tr>\n",
       "    <tr>\n",
       "      <th>mean</th>\n",
       "      <td>NaN</td>\n",
       "      <td>NaN</td>\n",
       "      <td>NaN</td>\n",
       "      <td>NaN</td>\n",
       "      <td>NaN</td>\n",
       "      <td>NaN</td>\n",
       "      <td>NaN</td>\n",
       "      <td>0.403169</td>\n",
       "      <td>6.757692</td>\n",
       "    </tr>\n",
       "    <tr>\n",
       "      <th>std</th>\n",
       "      <td>NaN</td>\n",
       "      <td>NaN</td>\n",
       "      <td>NaN</td>\n",
       "      <td>NaN</td>\n",
       "      <td>NaN</td>\n",
       "      <td>NaN</td>\n",
       "      <td>NaN</td>\n",
       "      <td>0.317902</td>\n",
       "      <td>7.061707</td>\n",
       "    </tr>\n",
       "    <tr>\n",
       "      <th>min</th>\n",
       "      <td>NaN</td>\n",
       "      <td>NaN</td>\n",
       "      <td>NaN</td>\n",
       "      <td>NaN</td>\n",
       "      <td>NaN</td>\n",
       "      <td>NaN</td>\n",
       "      <td>NaN</td>\n",
       "      <td>0.000000</td>\n",
       "      <td>0.000000</td>\n",
       "    </tr>\n",
       "    <tr>\n",
       "      <th>25%</th>\n",
       "      <td>NaN</td>\n",
       "      <td>NaN</td>\n",
       "      <td>NaN</td>\n",
       "      <td>NaN</td>\n",
       "      <td>NaN</td>\n",
       "      <td>NaN</td>\n",
       "      <td>NaN</td>\n",
       "      <td>0.200000</td>\n",
       "      <td>2.000000</td>\n",
       "    </tr>\n",
       "    <tr>\n",
       "      <th>50%</th>\n",
       "      <td>NaN</td>\n",
       "      <td>NaN</td>\n",
       "      <td>NaN</td>\n",
       "      <td>NaN</td>\n",
       "      <td>NaN</td>\n",
       "      <td>NaN</td>\n",
       "      <td>NaN</td>\n",
       "      <td>0.276315</td>\n",
       "      <td>5.000000</td>\n",
       "    </tr>\n",
       "    <tr>\n",
       "      <th>75%</th>\n",
       "      <td>NaN</td>\n",
       "      <td>NaN</td>\n",
       "      <td>NaN</td>\n",
       "      <td>NaN</td>\n",
       "      <td>NaN</td>\n",
       "      <td>NaN</td>\n",
       "      <td>NaN</td>\n",
       "      <td>0.516009</td>\n",
       "      <td>9.000000</td>\n",
       "    </tr>\n",
       "    <tr>\n",
       "      <th>max</th>\n",
       "      <td>NaN</td>\n",
       "      <td>NaN</td>\n",
       "      <td>NaN</td>\n",
       "      <td>NaN</td>\n",
       "      <td>NaN</td>\n",
       "      <td>NaN</td>\n",
       "      <td>NaN</td>\n",
       "      <td>1.921053</td>\n",
       "      <td>50.000000</td>\n",
       "    </tr>\n",
       "  </tbody>\n",
       "</table>\n",
       "</div>"
      ],
      "text/plain": [
       "        date_local  state_name  county_name      city_name local_site_name  \\\n",
       "count          260         260          260            260             257   \n",
       "unique           1          52          149            190             253   \n",
       "top     2018-01-01  California  Los Angeles  Not in a city         Kapolei   \n",
       "freq           260          66           14             21               2   \n",
       "mean           NaN         NaN          NaN            NaN             NaN   \n",
       "std            NaN         NaN          NaN            NaN             NaN   \n",
       "min            NaN         NaN          NaN            NaN             NaN   \n",
       "25%            NaN         NaN          NaN            NaN             NaN   \n",
       "50%            NaN         NaN          NaN            NaN             NaN   \n",
       "75%            NaN         NaN          NaN            NaN             NaN   \n",
       "max            NaN         NaN          NaN            NaN             NaN   \n",
       "\n",
       "         parameter_name   units_of_measure  arithmetic_mean         aqi  \n",
       "count               260                260       260.000000  260.000000  \n",
       "unique                1                  1              NaN         NaN  \n",
       "top     Carbon monoxide  Parts per million              NaN         NaN  \n",
       "freq                260                260              NaN         NaN  \n",
       "mean                NaN                NaN         0.403169    6.757692  \n",
       "std                 NaN                NaN         0.317902    7.061707  \n",
       "min                 NaN                NaN         0.000000    0.000000  \n",
       "25%                 NaN                NaN         0.200000    2.000000  \n",
       "50%                 NaN                NaN         0.276315    5.000000  \n",
       "75%                 NaN                NaN         0.516009    9.000000  \n",
       "max                 NaN                NaN         1.921053   50.000000  "
      ]
     },
     "execution_count": 5,
     "metadata": {},
     "output_type": "execute_result"
    }
   ],
   "source": [
    "aqi.describe(include='all')"
   ]
  },
  {
   "cell_type": "code",
   "execution_count": 39,
   "id": "dae847e8",
   "metadata": {},
   "outputs": [
    {
     "data": {
      "image/png": "[encoded data removed]",
      "text/plain": [
       "<Figure size 1000x500 with 1 Axes>"
      ]
     },
     "metadata": {},
     "output_type": "display_data"
    }
   ],
   "source": [
    "state_counts= aqi['state_name'].value_counts().reset_index()\n",
    "plt.figure(figsize=(10,5))\n",
    "plt.bar(state_counts['state_name'], state_counts['count'])\n",
    "plt.title('Representation of each state in sample')\n",
    "plt.ylabel('State count')\n",
    "plt.xticks(rotation=45, ha='right', fontsize=8)\n",
    "plt.show()"
   ]
  },
  {
   "cell_type": "markdown",
   "metadata": {
    "id": "DOPQ6EL9ZmrB"
   },
   "source": [
    "**Question:** What time range does this data cover?\n",
    "\n",
    "* The sample blongs to data colelcted on a single day, 2018-01-01\n"
   ]
  },
  {
   "cell_type": "markdown",
   "metadata": {
    "id": "Sw0U5NWpZ1wp"
   },
   "source": [
    "**Question:** What are the minimum and maximum AQI values observed in the dataset?\n",
    "\n",
    "* Min(aqi) = 0.0\n",
    "* Max(aqi) = 50.0"
   ]
  },
  {
   "cell_type": "markdown",
   "metadata": {
    "id": "LWBj7cKZZ_du"
   },
   "source": [
    "**Question:** Are all states equally represented in the dataset?\n",
    "\n",
    "* No, California sites are overrepresented in the dataset."
   ]
  },
  {
   "cell_type": "markdown",
   "metadata": {
    "id": "fd48d0f0-3f90-455e-87a1-0da43fcac202"
   },
   "source": [
    "## Step 3: Statistical tests\n",
    "\n",
    "### Summarize the mean AQI for RRE states\n",
    "\n",
    "Start with your first deliverable. Summarize the mean AQI for the states in which RRE operates (California, Florida, Michigan, Ohio, Pennsylvania, and Texas)."
   ]
  },
  {
   "cell_type": "code",
   "execution_count": 71,
   "metadata": {
    "id": "83ef0d80-48ec-4a5a-8acd-0fab137243c3",
    "tags": []
   },
   "outputs": [
    {
     "data": {
      "text/html": [
       "<div>\n",
       "<style scoped>\n",
       "    .dataframe tbody tr th:only-of-type {\n",
       "        vertical-align: middle;\n",
       "    }\n",
       "\n",
       "    .dataframe tbody tr th {\n",
       "        vertical-align: top;\n",
       "    }\n",
       "\n",
       "    .dataframe thead th {\n",
       "        text-align: right;\n",
       "    }\n",
       "</style>\n",
       "<table border=\"1\" class=\"dataframe\">\n",
       "  <thead>\n",
       "    <tr style=\"text-align: right;\">\n",
       "      <th></th>\n",
       "      <th>state_name</th>\n",
       "      <th>mean_aqi</th>\n",
       "      <th>state_count</th>\n",
       "    </tr>\n",
       "  </thead>\n",
       "  <tbody>\n",
       "    <tr>\n",
       "      <th>0</th>\n",
       "      <td>California</td>\n",
       "      <td>12.121212</td>\n",
       "      <td>66</td>\n",
       "    </tr>\n",
       "    <tr>\n",
       "      <th>1</th>\n",
       "      <td>Florida</td>\n",
       "      <td>5.500000</td>\n",
       "      <td>12</td>\n",
       "    </tr>\n",
       "    <tr>\n",
       "      <th>2</th>\n",
       "      <td>Michigan</td>\n",
       "      <td>8.111111</td>\n",
       "      <td>9</td>\n",
       "    </tr>\n",
       "    <tr>\n",
       "      <th>3</th>\n",
       "      <td>Ohio</td>\n",
       "      <td>3.333333</td>\n",
       "      <td>12</td>\n",
       "    </tr>\n",
       "    <tr>\n",
       "      <th>4</th>\n",
       "      <td>Pennsylvania</td>\n",
       "      <td>2.900000</td>\n",
       "      <td>10</td>\n",
       "    </tr>\n",
       "  </tbody>\n",
       "</table>\n",
       "</div>"
      ],
      "text/plain": [
       "     state_name   mean_aqi  state_count\n",
       "0    California  12.121212           66\n",
       "1       Florida   5.500000           12\n",
       "2      Michigan   8.111111            9\n",
       "3          Ohio   3.333333           12\n",
       "4  Pennsylvania   2.900000           10"
      ]
     },
     "execution_count": 71,
     "metadata": {},
     "output_type": "execute_result"
    }
   ],
   "source": [
    "# Summarize the mean AQI for RRE states.\n",
    "# Create a list of RRE states.\n",
    "rre_states = ['California', 'Florida', 'Michigan', 'Ohio', 'Pennsylvania']\n",
    "\n",
    "# Subset `aqi` to only consider these states.\n",
    "rre_aqi = aqi[aqi['state_name'].isin(rre_states)]\n",
    "\n",
    "# Find the mean aqi for each of the RRE states.\n",
    "rre_aqi_g = rre_aqi.groupby('state_name').agg(mean_aqi = pd.NamedAgg(column='aqi', aggfunc='mean'), state_count = pd.NamedAgg(column='state_name', aggfunc='count')).reset_index()\n",
    "rre_aqi_g\n"
   ]
  },
  {
   "cell_type": "markdown",
   "metadata": {
    "id": "883abc8c-5aa9-480e-ac4b-c1c64f8ae0fd"
   },
   "source": [
    "### Construct a boxplot visualization for the AQI of these states\n",
    "\n",
    "Seaborn is a simple visualization library, commonly imported as `sns`. Import `seaborn`. Then utilize a boxplot visualization from this library to compare the distributions of AQI scores by state."
   ]
  },
  {
   "cell_type": "code",
   "execution_count": 72,
   "metadata": {
    "id": "ca381599-7cba-4454-922c-3383a2b7608d"
   },
   "outputs": [
    {
     "data": {
      "image/png": "[encoded data removed]",
      "text/plain": [
       "<Figure size 640x480 with 1 Axes>"
      ]
     },
     "metadata": {},
     "output_type": "display_data"
    }
   ],
   "source": [
    "# Import seaborn as sns.\n",
    "import seaborn as sns\n",
    "\n",
    "# Create inline visualisation of distribution.\n",
    "sns.boxplot(data=rre_aqi,\n",
    "            x='state_name',\n",
    "            y='aqi')\n",
    "plt.title('AQI levels for RRE states in sample')\n",
    "plt.xlabel('State name')\n",
    "plt.ylabel('AQI')\n",
    "plt.show()"
   ]
  },
  {
   "cell_type": "markdown",
   "metadata": {
    "id": "5e2af1a1-7816-4d8b-929b-41268234a579"
   },
   "source": [
    "**Question:** Based on the data and your visualizations, which state(s) do you suspect will be most affected by this policy?"
   ]
  },
  {
   "cell_type": "markdown",
   "metadata": {
    "id": "ZbPjfp_wgVpg"
   },
   "source": [
    "* Based on the mean data, it appears that California's average AQI is above the threshold of 10 required for subsidy for renewable energy. However, this would have to be verified, as there appears to be one subsbstantial outlier in the dataset. Whether this is a true datapoint or an error would have to be determined.\n",
    "* Based on the distribution of the data, it is possible that the state of Michigan will also be affected by the policy, as the sample's mean is close to the threshold value. "
   ]
  },
  {
   "cell_type": "markdown",
   "metadata": {
    "id": "b01231e9-0a80-4457-a47e-c62c2c230ae4"
   },
   "source": [
    "### Construct a confidence interval for the RRE state with the highest mean AQI\n",
    "\n",
    "Recall the 4-step process in constructing a confidence interval:\n",
    "\n",
    "1.   Identify a sample statistic.\n",
    "2.   Choose a confidence level.\n",
    "3.   Find the margin of error. \n",
    "4.   Calculate the interval."
   ]
  },
  {
   "cell_type": "markdown",
   "metadata": {
    "id": "587f8053-6cbd-454a-a390-9307e5a65b1b"
   },
   "source": [
    "### Construct your sample statistic\n",
    "\n",
    "To contruct your sample statistic, find the mean AQI for your state."
   ]
  },
  {
   "cell_type": "code",
   "execution_count": 57,
   "metadata": {
    "id": "58af6462-80ab-4055-85de-c99c87129752"
   },
   "outputs": [
    {
     "data": {
      "text/plain": [
       "12.121212121212121"
      ]
     },
     "execution_count": 57,
     "metadata": {},
     "output_type": "execute_result"
    }
   ],
   "source": [
    "# Find the mean aqi for your state.\n",
    "california_s_mean = rre_aqi[rre_aqi['state_name'] == 'California']['aqi'].mean()\n",
    "california_s_mean"
   ]
  },
  {
   "cell_type": "markdown",
   "metadata": {
    "id": "9a15605d-5b99-4033-940f-1fab630ad6c1"
   },
   "source": [
    "### Choose your confidence level\n",
    "\n",
    "Choose your confidence level for your analysis. The most typical confidence level chosen is 95%; however, you can choose 90% or 99% if you want decrease or increase (respectively) your level of confidence about your result."
   ]
  },
  {
   "cell_type": "code",
   "execution_count": 58,
   "metadata": {
    "id": "0a9c1f39-b4e2-4ec3-9369-dd313fd2d835",
    "outputId": "c035e170-c781-46b7-d1ec-5af2c66a7b1f"
   },
   "outputs": [],
   "source": [
    "# Input your confidence level here:\n",
    "CI = 0.95"
   ]
  },
  {
   "cell_type": "markdown",
   "metadata": {
    "id": "ac18cb1b-40ca-4de3-bc0a-08be82f64781"
   },
   "source": [
    "### Find your margin of error (ME)\n",
    "\n",
    "Recall **margin of error = z * standard error**, where z is the appropriate z-value for the given confidence level. To calculate your margin of error:\n",
    "\n",
    "- Find your z-value. \n",
    "- Find the approximate z for common confidence levels.\n",
    "- Calculate your **standard error** estimate. \n",
    "\n",
    "| Confidence Level | Z Score |\n",
    "| --- | --- |\n",
    "| 90% | 1.65 |\n",
    "| 95% | 1.96 |\n",
    "| 99% | 2.58 |\n"
   ]
  },
  {
   "cell_type": "code",
   "execution_count": 76,
   "metadata": {
    "id": "930e5fb6-171c-4bba-a601-d5e3b84e2fdb"
   },
   "outputs": [
    {
     "name": "stdout",
     "output_type": "stream",
     "text": [
      "std error: 0.90\n",
      "margin of error: 1.76\n"
     ]
    }
   ],
   "source": [
    "# Calculate your margin of error.\n",
    "\n",
    "# Begin by identifying the z associated with your chosen confidence level.\n",
    "z95 = 1.96\n",
    "\n",
    "# Next, calculate your standard error.\n",
    "std_error = rre_aqi[rre_aqi['state_name'] == 'California']['aqi'].std()/np.sqrt(rre_aqi[rre_aqi['state_name'] == 'California']['aqi'].count())\n",
    "\n",
    "# Lastly, use the preceding result to calculate your margin of error.\n",
    "margin_error = z95 * std_error\n",
    "print(f\"std error: {std_error:.2f}\")\n",
    "print(f\"margin of error: {margin_error:.2f}\")"
   ]
  },
  {
   "cell_type": "markdown",
   "metadata": {
    "id": "6b0d173b-06d4-4e82-81d8-092b24132bd2"
   },
   "source": [
    "### Calculate your interval\n",
    "\n",
    "Calculate both a lower and upper limit surrounding your sample mean to create your interval."
   ]
  },
  {
   "cell_type": "code",
   "execution_count": 65,
   "metadata": {
    "id": "f83a7ba7-afdd-4d8c-8b78-849cff363180"
   },
   "outputs": [
    {
     "name": "stdout",
     "output_type": "stream",
     "text": [
      "10.36, 13.88\n"
     ]
    }
   ],
   "source": [
    "# Calculate your confidence interval (upper and lower limits).\n",
    "upper_limit = california_s_mean + margin_error\n",
    "lower_limit = california_s_mean - margin_error\n",
    "print(f\"{lower_limit:.2f}, {upper_limit:.2f}\")"
   ]
  },
  {
   "cell_type": "markdown",
   "metadata": {
    "id": "82e06ed3-2ec3-4851-b3df-2c6d969ea616"
   },
   "source": [
    "### Alternative: Construct the interval using `scipy.stats.norm.interval()`\n",
    "\n",
    "`scipy` presents a simpler solution to developing a confidence interval. To use this, first import the `stats` module from `scipy`."
   ]
  },
  {
   "cell_type": "code",
   "execution_count": 66,
   "metadata": {
    "id": "0b6d2ecc-03ff-47ab-9d2d-57857fc38ca0"
   },
   "outputs": [],
   "source": [
    "# Import stats from scipy.\n",
    "from scipy import stats"
   ]
  },
  {
   "cell_type": "markdown",
   "metadata": {
    "id": "ba8af068-f28e-4c29-82c9-238bc0f16ed1"
   },
   "source": [
    "## Step 4: Results and evaluation\n",
    "\n",
    "### Recalculate your confidence interval\n",
    "\n",
    "Provide your chosen `confidence_level`, `sample_mean`, and `standard_error` to `stats.norm.interval()` and recalculate your confidence interval."
   ]
  },
  {
   "cell_type": "code",
   "execution_count": 70,
   "metadata": {
    "id": "f908eb99-ce5c-472f-891e-80a47cef5fed"
   },
   "outputs": [
    {
     "data": {
      "text/plain": [
       "(10.359751399400034, 13.882672843024208)"
      ]
     },
     "execution_count": 70,
     "metadata": {},
     "output_type": "execute_result"
    }
   ],
   "source": [
    "# calculate confidence interval\n",
    "cal_mean_interval = stats.norm.interval(confidence=0.95, loc=california_s_mean, scale=std_error)\n",
    "cal_mean_interval\n"
   ]
  },
  {
   "cell_type": "markdown",
   "metadata": {
    "id": "feb3e273-1aab-4965-bceb-8b8933c743b5"
   },
   "source": [
    "# Considerations\n",
    "\n",
    "**What are some key takeaways that you learned from this lab?**\n",
    "\n",
    "* How to calculate confidence intervals using z-score standardised distribution\n",
    "* California and Michigan are both most likely to experience an AQI >10. This means they are the most likely to be afected by the policy change.\n",
    "* \n",
    "\n",
    "**What findings would you share with others?**\n",
    "\n",
    "* Highlight the distribution of data from this sample using tables and boxplots constructed above. \n",
    "* California mean AQI = 12.12, 95% CI[10.36, 13.88]. This means that there is a 95% confidence that the California population AQI is between those two values and therefore above the AQI threshold for the environmental policy.\n",
    "* Show methodology used for generating confidence intervals. \n",
    "\n",
    "**What would you convey to external stakeholders?**\n",
    "* Share caveats of the sample - they only span one day and not all states are equally represented.\n",
    "* Share the states with the higest mean AQI - California and Michigan - focus on those states. \n",
    "* Explain the 95% CI for California's AQI and enquire whether a higher confidence is required.\n",
    "* Suggest further analysis of Michigan \n"
   ]
  },
  {
   "cell_type": "markdown",
   "metadata": {
    "id": "0IVWUekbeFEq"
   },
   "source": [
    "**References**\n",
    "\n",
    "[seaborn.boxplot — seaborn 0.12.1 documentation](https://seaborn.pydata.org/generated/seaborn.boxplot.html). (n.d.). "
   ]
  }
 ],
 "metadata": {
  "colab": {
   "collapsed_sections": [],
   "provenance": []
  },
  "kernelspec": {
   "display_name": "Python 3",
   "language": "python",
   "name": "python3"
  },
  "language_info": {
   "codemirror_mode": {
    "name": "ipython",
    "version": 3
   },
   "file_extension": ".py",
   "mimetype": "text/x-python",
   "name": "python",
   "nbconvert_exporter": "python",
   "pygments_lexer": "ipython3",
   "version": "3.10.13"
  }
 },
 "nbformat": 4,
 "nbformat_minor": 5
}
