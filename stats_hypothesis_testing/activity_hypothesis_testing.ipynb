{
 "cells": [
  {
   "cell_type": "markdown",
   "metadata": {
    "id": "d25eed62-5910-4d10-a976-c18c4f7d99f7"
   },
   "source": [
    "# Activity: Explore hypothesis testing"
   ]
  },
  {
   "cell_type": "markdown",
   "metadata": {
    "id": "b50579ec-09df-4bb1-ad5a-d28f4790ca16"
   },
   "source": [
    "## Introduction"
   ]
  },
  {
   "cell_type": "markdown",
   "metadata": {
    "id": "6a8992ac-22d5-41db-aa09-263b464950e0"
   },
   "source": [
    "You work for an environmental think tank called Repair Our Air (ROA). ROA is formulating policy recommendations to improve the air quality in America, using the Environmental Protection Agency's Air Quality Index (AQI) to guide their decision making. An AQI value close to 0 signals \"little to no\" public health concern, while higher values are associated with increased risk to public health. \n",
    "\n",
    "They've tasked you with leveraging AQI data to help them prioritize their strategy for improving air quality in America."
   ]
  },
  {
   "cell_type": "markdown",
   "metadata": {
    "id": "6e4e3b8a-b5f9-4fe1-a824-0bd3aece693c"
   },
   "source": [
    "ROA is considering the following decisions. For each, construct a hypothesis test and an accompanying visualization, using your results of that test to make a recommendation:\n",
    "\n",
    "1. ROA is considering a metropolitan-focused approach. Within California, they want to know if the mean AQI in Los Angeles County is statistically different from the rest of California.\n",
    "2. With limited resources, ROA has to choose between New York and Ohio for their next regional office. Does New York have a lower AQI than Ohio?\n",
    "3. A new policy will affect those states with a mean AQI of 10 or greater. Will Michigan be affected by this new policy?\n",
    "\n",
    "**Notes:**\n",
    "1. For your analysis, you'll default to a 5% level of significance.\n",
    "2. Throughout the lab, for two-sample t-tests, use Welch's t-test (i.e., setting the `equal_var` parameter to `False` in `scipy.stats.ttest_ind()`). This will account for the possibly unequal variances between the two groups in the comparison."
   ]
  },
  {
   "cell_type": "markdown",
   "metadata": {
    "id": "3b4dc9a5-d724-4696-a704-57fefa9d5938"
   },
   "source": [
    "## Step 1: Imports\n",
    "\n",
    "To proceed with your analysis, import `pandas` and `numpy`. To conduct your hypothesis testing, import `stats` from `scipy`."
   ]
  },
  {
   "cell_type": "markdown",
   "metadata": {
    "id": "3d28827d-9bb3-45c7-a969-c00f6feda0e2"
   },
   "source": [
    "#### Import Packages"
   ]
  },
  {
   "cell_type": "code",
   "execution_count": 24,
   "metadata": {
    "id": "0b3d0e1c-23b9-4491-82a5-ac1e4bd36f30"
   },
   "outputs": [],
   "source": [
    "# Import relevant packages\n",
    "import pandas as pd\n",
    "import numpy as np\n",
    "from scipy import stats\n",
    "import matplotlib.pyplot as plt\n",
    "import seaborn as sns"
   ]
  },
  {
   "cell_type": "markdown",
   "metadata": {
    "id": "a4f7c0d0-027e-475a-bce5-ad96d059cd04"
   },
   "source": [
    "You are also provided with a dataset with national Air Quality Index (AQI) measurements by state over time for this analysis. `Pandas` was used to import the file `c4_epa_air_quality.csv` as a dataframe named `aqi`. As shown in this cell, the dataset has been automatically loaded in for you. You do not need to download the .csv file, or provide more code, in order to access the dataset and proceed with this lab. Please continue with this activity by completing the following instructions.\n",
    "\n",
    "**Note:** For purposes of your analysis, you can assume this data is randomly sampled from a larger population."
   ]
  },
  {
   "cell_type": "markdown",
   "metadata": {
    "id": "4b765030-5f02-47d2-aa77-8ac5b2117cc1"
   },
   "source": [
    "#### Load Dataset"
   ]
  },
  {
   "cell_type": "code",
   "execution_count": 7,
   "metadata": {
    "id": "1ce82ed7-cf32-4028-ac77-a377e7638458",
    "tags": []
   },
   "outputs": [],
   "source": [
    "# Import data\n",
    "aqi = pd.read_csv('c4_epa_air_quality.csv', index_col=0)"
   ]
  },
  {
   "cell_type": "markdown",
   "metadata": {
    "id": "ZDz9XgvMy0MD"
   },
   "source": [
    "## Step 2: Data Exploration"
   ]
  },
  {
   "cell_type": "markdown",
   "metadata": {
    "id": "c1ee0813-5e74-4564-8ea1-8d724700754a"
   },
   "source": [
    "### Before proceeding to your deliverables, explore your datasets.\n",
    "\n",
    "Use the following space to surface descriptive statistics about your data. In particular, explore whether you believe the research questions you were given are readily answerable with this data."
   ]
  },
  {
   "cell_type": "markdown",
   "id": "946e6354",
   "metadata": {},
   "source": [
    "#### **Key points from exploratory analysis (see analysis below):**\n",
    "* The data provided is a sample of aqi data for 260 sites. State and county level information for each site is provided, as well as city, if applicable. \n",
    "* State and county data are not equally represented in this dataset.\n",
    "* California is overrepresented in the dataset. Its AQI values appear to be normally distributed. \n",
    "* There are 14 observations for LA county - this is sufficient to make compare this to the rest of the sites in California.\n",
    "* There are 10-12 observations for Ohio and New York states - this is sufficient to test the hypothesis.\n",
    "* Visual inspection of Michigan mean aqi with CI suggests the state might be affected by the new policy.\n"
   ]
  },
  {
   "cell_type": "code",
   "execution_count": 8,
   "metadata": {
    "id": "0444122d-6fba-4051-8b09-b15392aacebf",
    "tags": []
   },
   "outputs": [
    {
     "data": {
      "text/html": [
       "<div>\n",
       "<style scoped>\n",
       "    .dataframe tbody tr th:only-of-type {\n",
       "        vertical-align: middle;\n",
       "    }\n",
       "\n",
       "    .dataframe tbody tr th {\n",
       "        vertical-align: top;\n",
       "    }\n",
       "\n",
       "    .dataframe thead th {\n",
       "        text-align: right;\n",
       "    }\n",
       "</style>\n",
       "<table border=\"1\" class=\"dataframe\">\n",
       "  <thead>\n",
       "    <tr style=\"text-align: right;\">\n",
       "      <th></th>\n",
       "      <th>date_local</th>\n",
       "      <th>state_name</th>\n",
       "      <th>county_name</th>\n",
       "      <th>city_name</th>\n",
       "      <th>local_site_name</th>\n",
       "      <th>parameter_name</th>\n",
       "      <th>units_of_measure</th>\n",
       "      <th>arithmetic_mean</th>\n",
       "      <th>aqi</th>\n",
       "    </tr>\n",
       "  </thead>\n",
       "  <tbody>\n",
       "    <tr>\n",
       "      <th>0</th>\n",
       "      <td>2018-01-01</td>\n",
       "      <td>Arizona</td>\n",
       "      <td>Maricopa</td>\n",
       "      <td>Buckeye</td>\n",
       "      <td>BUCKEYE</td>\n",
       "      <td>Carbon monoxide</td>\n",
       "      <td>Parts per million</td>\n",
       "      <td>0.473684</td>\n",
       "      <td>7</td>\n",
       "    </tr>\n",
       "    <tr>\n",
       "      <th>1</th>\n",
       "      <td>2018-01-01</td>\n",
       "      <td>Ohio</td>\n",
       "      <td>Belmont</td>\n",
       "      <td>Shadyside</td>\n",
       "      <td>Shadyside</td>\n",
       "      <td>Carbon monoxide</td>\n",
       "      <td>Parts per million</td>\n",
       "      <td>0.263158</td>\n",
       "      <td>5</td>\n",
       "    </tr>\n",
       "    <tr>\n",
       "      <th>2</th>\n",
       "      <td>2018-01-01</td>\n",
       "      <td>Wyoming</td>\n",
       "      <td>Teton</td>\n",
       "      <td>Not in a city</td>\n",
       "      <td>Yellowstone National Park - Old Faithful Snow ...</td>\n",
       "      <td>Carbon monoxide</td>\n",
       "      <td>Parts per million</td>\n",
       "      <td>0.111111</td>\n",
       "      <td>2</td>\n",
       "    </tr>\n",
       "    <tr>\n",
       "      <th>3</th>\n",
       "      <td>2018-01-01</td>\n",
       "      <td>Pennsylvania</td>\n",
       "      <td>Philadelphia</td>\n",
       "      <td>Philadelphia</td>\n",
       "      <td>North East Waste (NEW)</td>\n",
       "      <td>Carbon monoxide</td>\n",
       "      <td>Parts per million</td>\n",
       "      <td>0.300000</td>\n",
       "      <td>3</td>\n",
       "    </tr>\n",
       "    <tr>\n",
       "      <th>4</th>\n",
       "      <td>2018-01-01</td>\n",
       "      <td>Iowa</td>\n",
       "      <td>Polk</td>\n",
       "      <td>Des Moines</td>\n",
       "      <td>CARPENTER</td>\n",
       "      <td>Carbon monoxide</td>\n",
       "      <td>Parts per million</td>\n",
       "      <td>0.215789</td>\n",
       "      <td>3</td>\n",
       "    </tr>\n",
       "  </tbody>\n",
       "</table>\n",
       "</div>"
      ],
      "text/plain": [
       "   date_local    state_name   county_name      city_name  \\\n",
       "0  2018-01-01       Arizona      Maricopa        Buckeye   \n",
       "1  2018-01-01          Ohio       Belmont      Shadyside   \n",
       "2  2018-01-01       Wyoming         Teton  Not in a city   \n",
       "3  2018-01-01  Pennsylvania  Philadelphia   Philadelphia   \n",
       "4  2018-01-01          Iowa          Polk     Des Moines   \n",
       "\n",
       "                                     local_site_name   parameter_name  \\\n",
       "0                                            BUCKEYE  Carbon monoxide   \n",
       "1                                          Shadyside  Carbon monoxide   \n",
       "2  Yellowstone National Park - Old Faithful Snow ...  Carbon monoxide   \n",
       "3                             North East Waste (NEW)  Carbon monoxide   \n",
       "4                                          CARPENTER  Carbon monoxide   \n",
       "\n",
       "    units_of_measure  arithmetic_mean  aqi  \n",
       "0  Parts per million         0.473684    7  \n",
       "1  Parts per million         0.263158    5  \n",
       "2  Parts per million         0.111111    2  \n",
       "3  Parts per million         0.300000    3  \n",
       "4  Parts per million         0.215789    3  "
      ]
     },
     "execution_count": 8,
     "metadata": {},
     "output_type": "execute_result"
    }
   ],
   "source": [
    "# Explore your dataframe `aqi` here:\n",
    "\n",
    "aqi.head()"
   ]
  },
  {
   "cell_type": "code",
   "execution_count": 9,
   "id": "13c84f97",
   "metadata": {},
   "outputs": [
    {
     "name": "stdout",
     "output_type": "stream",
     "text": [
      "<class 'pandas.core.frame.DataFrame'>\n",
      "Index: 260 entries, 0 to 259\n",
      "Data columns (total 9 columns):\n",
      " #   Column            Non-Null Count  Dtype  \n",
      "---  ------            --------------  -----  \n",
      " 0   date_local        260 non-null    object \n",
      " 1   state_name        260 non-null    object \n",
      " 2   county_name       260 non-null    object \n",
      " 3   city_name         260 non-null    object \n",
      " 4   local_site_name   257 non-null    object \n",
      " 5   parameter_name    260 non-null    object \n",
      " 6   units_of_measure  260 non-null    object \n",
      " 7   arithmetic_mean   260 non-null    float64\n",
      " 8   aqi               260 non-null    int64  \n",
      "dtypes: float64(1), int64(1), object(7)\n",
      "memory usage: 20.3+ KB\n"
     ]
    }
   ],
   "source": [
    "aqi.info()"
   ]
  },
  {
   "cell_type": "code",
   "execution_count": 10,
   "id": "af783654",
   "metadata": {},
   "outputs": [
    {
     "data": {
      "text/html": [
       "<div>\n",
       "<style scoped>\n",
       "    .dataframe tbody tr th:only-of-type {\n",
       "        vertical-align: middle;\n",
       "    }\n",
       "\n",
       "    .dataframe tbody tr th {\n",
       "        vertical-align: top;\n",
       "    }\n",
       "\n",
       "    .dataframe thead th {\n",
       "        text-align: right;\n",
       "    }\n",
       "</style>\n",
       "<table border=\"1\" class=\"dataframe\">\n",
       "  <thead>\n",
       "    <tr style=\"text-align: right;\">\n",
       "      <th></th>\n",
       "      <th>date_local</th>\n",
       "      <th>state_name</th>\n",
       "      <th>county_name</th>\n",
       "      <th>city_name</th>\n",
       "      <th>local_site_name</th>\n",
       "      <th>parameter_name</th>\n",
       "      <th>units_of_measure</th>\n",
       "      <th>arithmetic_mean</th>\n",
       "      <th>aqi</th>\n",
       "    </tr>\n",
       "  </thead>\n",
       "  <tbody>\n",
       "    <tr>\n",
       "      <th>count</th>\n",
       "      <td>260</td>\n",
       "      <td>260</td>\n",
       "      <td>260</td>\n",
       "      <td>260</td>\n",
       "      <td>257</td>\n",
       "      <td>260</td>\n",
       "      <td>260</td>\n",
       "      <td>260.000000</td>\n",
       "      <td>260.000000</td>\n",
       "    </tr>\n",
       "    <tr>\n",
       "      <th>unique</th>\n",
       "      <td>1</td>\n",
       "      <td>52</td>\n",
       "      <td>149</td>\n",
       "      <td>190</td>\n",
       "      <td>253</td>\n",
       "      <td>1</td>\n",
       "      <td>1</td>\n",
       "      <td>NaN</td>\n",
       "      <td>NaN</td>\n",
       "    </tr>\n",
       "    <tr>\n",
       "      <th>top</th>\n",
       "      <td>2018-01-01</td>\n",
       "      <td>California</td>\n",
       "      <td>Los Angeles</td>\n",
       "      <td>Not in a city</td>\n",
       "      <td>Kapolei</td>\n",
       "      <td>Carbon monoxide</td>\n",
       "      <td>Parts per million</td>\n",
       "      <td>NaN</td>\n",
       "      <td>NaN</td>\n",
       "    </tr>\n",
       "    <tr>\n",
       "      <th>freq</th>\n",
       "      <td>260</td>\n",
       "      <td>66</td>\n",
       "      <td>14</td>\n",
       "      <td>21</td>\n",
       "      <td>2</td>\n",
       "      <td>260</td>\n",
       "      <td>260</td>\n",
       "      <td>NaN</td>\n",
       "      <td>NaN</td>\n",
       "    </tr>\n",
       "    <tr>\n",
       "      <th>mean</th>\n",
       "      <td>NaN</td>\n",
       "      <td>NaN</td>\n",
       "      <td>NaN</td>\n",
       "      <td>NaN</td>\n",
       "      <td>NaN</td>\n",
       "      <td>NaN</td>\n",
       "      <td>NaN</td>\n",
       "      <td>0.403169</td>\n",
       "      <td>6.757692</td>\n",
       "    </tr>\n",
       "    <tr>\n",
       "      <th>std</th>\n",
       "      <td>NaN</td>\n",
       "      <td>NaN</td>\n",
       "      <td>NaN</td>\n",
       "      <td>NaN</td>\n",
       "      <td>NaN</td>\n",
       "      <td>NaN</td>\n",
       "      <td>NaN</td>\n",
       "      <td>0.317902</td>\n",
       "      <td>7.061707</td>\n",
       "    </tr>\n",
       "    <tr>\n",
       "      <th>min</th>\n",
       "      <td>NaN</td>\n",
       "      <td>NaN</td>\n",
       "      <td>NaN</td>\n",
       "      <td>NaN</td>\n",
       "      <td>NaN</td>\n",
       "      <td>NaN</td>\n",
       "      <td>NaN</td>\n",
       "      <td>0.000000</td>\n",
       "      <td>0.000000</td>\n",
       "    </tr>\n",
       "    <tr>\n",
       "      <th>25%</th>\n",
       "      <td>NaN</td>\n",
       "      <td>NaN</td>\n",
       "      <td>NaN</td>\n",
       "      <td>NaN</td>\n",
       "      <td>NaN</td>\n",
       "      <td>NaN</td>\n",
       "      <td>NaN</td>\n",
       "      <td>0.200000</td>\n",
       "      <td>2.000000</td>\n",
       "    </tr>\n",
       "    <tr>\n",
       "      <th>50%</th>\n",
       "      <td>NaN</td>\n",
       "      <td>NaN</td>\n",
       "      <td>NaN</td>\n",
       "      <td>NaN</td>\n",
       "      <td>NaN</td>\n",
       "      <td>NaN</td>\n",
       "      <td>NaN</td>\n",
       "      <td>0.276315</td>\n",
       "      <td>5.000000</td>\n",
       "    </tr>\n",
       "    <tr>\n",
       "      <th>75%</th>\n",
       "      <td>NaN</td>\n",
       "      <td>NaN</td>\n",
       "      <td>NaN</td>\n",
       "      <td>NaN</td>\n",
       "      <td>NaN</td>\n",
       "      <td>NaN</td>\n",
       "      <td>NaN</td>\n",
       "      <td>0.516009</td>\n",
       "      <td>9.000000</td>\n",
       "    </tr>\n",
       "    <tr>\n",
       "      <th>max</th>\n",
       "      <td>NaN</td>\n",
       "      <td>NaN</td>\n",
       "      <td>NaN</td>\n",
       "      <td>NaN</td>\n",
       "      <td>NaN</td>\n",
       "      <td>NaN</td>\n",
       "      <td>NaN</td>\n",
       "      <td>1.921053</td>\n",
       "      <td>50.000000</td>\n",
       "    </tr>\n",
       "  </tbody>\n",
       "</table>\n",
       "</div>"
      ],
      "text/plain": [
       "        date_local  state_name  county_name      city_name local_site_name  \\\n",
       "count          260         260          260            260             257   \n",
       "unique           1          52          149            190             253   \n",
       "top     2018-01-01  California  Los Angeles  Not in a city         Kapolei   \n",
       "freq           260          66           14             21               2   \n",
       "mean           NaN         NaN          NaN            NaN             NaN   \n",
       "std            NaN         NaN          NaN            NaN             NaN   \n",
       "min            NaN         NaN          NaN            NaN             NaN   \n",
       "25%            NaN         NaN          NaN            NaN             NaN   \n",
       "50%            NaN         NaN          NaN            NaN             NaN   \n",
       "75%            NaN         NaN          NaN            NaN             NaN   \n",
       "max            NaN         NaN          NaN            NaN             NaN   \n",
       "\n",
       "         parameter_name   units_of_measure  arithmetic_mean         aqi  \n",
       "count               260                260       260.000000  260.000000  \n",
       "unique                1                  1              NaN         NaN  \n",
       "top     Carbon monoxide  Parts per million              NaN         NaN  \n",
       "freq                260                260              NaN         NaN  \n",
       "mean                NaN                NaN         0.403169    6.757692  \n",
       "std                 NaN                NaN         0.317902    7.061707  \n",
       "min                 NaN                NaN         0.000000    0.000000  \n",
       "25%                 NaN                NaN         0.200000    2.000000  \n",
       "50%                 NaN                NaN         0.276315    5.000000  \n",
       "75%                 NaN                NaN         0.516009    9.000000  \n",
       "max                 NaN                NaN         1.921053   50.000000  "
      ]
     },
     "execution_count": 10,
     "metadata": {},
     "output_type": "execute_result"
    }
   ],
   "source": [
    "aqi.describe(include='all')"
   ]
  },
  {
   "cell_type": "code",
   "execution_count": 17,
   "id": "b55fd3bf",
   "metadata": {},
   "outputs": [
    {
     "data": {
      "text/html": [
       "<div>\n",
       "<style scoped>\n",
       "    .dataframe tbody tr th:only-of-type {\n",
       "        vertical-align: middle;\n",
       "    }\n",
       "\n",
       "    .dataframe tbody tr th {\n",
       "        vertical-align: top;\n",
       "    }\n",
       "\n",
       "    .dataframe thead th {\n",
       "        text-align: right;\n",
       "    }\n",
       "</style>\n",
       "<table border=\"1\" class=\"dataframe\">\n",
       "  <thead>\n",
       "    <tr style=\"text-align: right;\">\n",
       "      <th></th>\n",
       "      <th>state_name</th>\n",
       "      <th>count</th>\n",
       "    </tr>\n",
       "  </thead>\n",
       "  <tbody>\n",
       "    <tr>\n",
       "      <th>0</th>\n",
       "      <td>California</td>\n",
       "      <td>66</td>\n",
       "    </tr>\n",
       "    <tr>\n",
       "      <th>1</th>\n",
       "      <td>Arizona</td>\n",
       "      <td>14</td>\n",
       "    </tr>\n",
       "    <tr>\n",
       "      <th>2</th>\n",
       "      <td>Ohio</td>\n",
       "      <td>12</td>\n",
       "    </tr>\n",
       "    <tr>\n",
       "      <th>3</th>\n",
       "      <td>Florida</td>\n",
       "      <td>12</td>\n",
       "    </tr>\n",
       "    <tr>\n",
       "      <th>4</th>\n",
       "      <td>Texas</td>\n",
       "      <td>10</td>\n",
       "    </tr>\n",
       "    <tr>\n",
       "      <th>5</th>\n",
       "      <td>New York</td>\n",
       "      <td>10</td>\n",
       "    </tr>\n",
       "    <tr>\n",
       "      <th>6</th>\n",
       "      <td>Pennsylvania</td>\n",
       "      <td>10</td>\n",
       "    </tr>\n",
       "    <tr>\n",
       "      <th>7</th>\n",
       "      <td>Michigan</td>\n",
       "      <td>9</td>\n",
       "    </tr>\n",
       "    <tr>\n",
       "      <th>8</th>\n",
       "      <td>Colorado</td>\n",
       "      <td>9</td>\n",
       "    </tr>\n",
       "    <tr>\n",
       "      <th>9</th>\n",
       "      <td>Minnesota</td>\n",
       "      <td>7</td>\n",
       "    </tr>\n",
       "    <tr>\n",
       "      <th>10</th>\n",
       "      <td>New Jersey</td>\n",
       "      <td>6</td>\n",
       "    </tr>\n",
       "    <tr>\n",
       "      <th>11</th>\n",
       "      <td>Indiana</td>\n",
       "      <td>5</td>\n",
       "    </tr>\n",
       "    <tr>\n",
       "      <th>12</th>\n",
       "      <td>North Carolina</td>\n",
       "      <td>4</td>\n",
       "    </tr>\n",
       "    <tr>\n",
       "      <th>13</th>\n",
       "      <td>Massachusetts</td>\n",
       "      <td>4</td>\n",
       "    </tr>\n",
       "    <tr>\n",
       "      <th>14</th>\n",
       "      <td>Maryland</td>\n",
       "      <td>4</td>\n",
       "    </tr>\n",
       "    <tr>\n",
       "      <th>15</th>\n",
       "      <td>Oklahoma</td>\n",
       "      <td>4</td>\n",
       "    </tr>\n",
       "    <tr>\n",
       "      <th>16</th>\n",
       "      <td>Virginia</td>\n",
       "      <td>4</td>\n",
       "    </tr>\n",
       "    <tr>\n",
       "      <th>17</th>\n",
       "      <td>Nevada</td>\n",
       "      <td>4</td>\n",
       "    </tr>\n",
       "    <tr>\n",
       "      <th>18</th>\n",
       "      <td>Connecticut</td>\n",
       "      <td>4</td>\n",
       "    </tr>\n",
       "    <tr>\n",
       "      <th>19</th>\n",
       "      <td>Kentucky</td>\n",
       "      <td>3</td>\n",
       "    </tr>\n",
       "    <tr>\n",
       "      <th>20</th>\n",
       "      <td>Missouri</td>\n",
       "      <td>3</td>\n",
       "    </tr>\n",
       "    <tr>\n",
       "      <th>21</th>\n",
       "      <td>Wyoming</td>\n",
       "      <td>3</td>\n",
       "    </tr>\n",
       "    <tr>\n",
       "      <th>22</th>\n",
       "      <td>Iowa</td>\n",
       "      <td>3</td>\n",
       "    </tr>\n",
       "    <tr>\n",
       "      <th>23</th>\n",
       "      <td>Hawaii</td>\n",
       "      <td>3</td>\n",
       "    </tr>\n",
       "    <tr>\n",
       "      <th>24</th>\n",
       "      <td>Utah</td>\n",
       "      <td>3</td>\n",
       "    </tr>\n",
       "    <tr>\n",
       "      <th>25</th>\n",
       "      <td>Vermont</td>\n",
       "      <td>3</td>\n",
       "    </tr>\n",
       "    <tr>\n",
       "      <th>26</th>\n",
       "      <td>Illinois</td>\n",
       "      <td>3</td>\n",
       "    </tr>\n",
       "    <tr>\n",
       "      <th>27</th>\n",
       "      <td>New Hampshire</td>\n",
       "      <td>2</td>\n",
       "    </tr>\n",
       "    <tr>\n",
       "      <th>28</th>\n",
       "      <td>District Of Columbia</td>\n",
       "      <td>2</td>\n",
       "    </tr>\n",
       "    <tr>\n",
       "      <th>29</th>\n",
       "      <td>New Mexico</td>\n",
       "      <td>2</td>\n",
       "    </tr>\n",
       "    <tr>\n",
       "      <th>30</th>\n",
       "      <td>Montana</td>\n",
       "      <td>2</td>\n",
       "    </tr>\n",
       "    <tr>\n",
       "      <th>31</th>\n",
       "      <td>Oregon</td>\n",
       "      <td>2</td>\n",
       "    </tr>\n",
       "    <tr>\n",
       "      <th>32</th>\n",
       "      <td>Alaska</td>\n",
       "      <td>2</td>\n",
       "    </tr>\n",
       "    <tr>\n",
       "      <th>33</th>\n",
       "      <td>Georgia</td>\n",
       "      <td>2</td>\n",
       "    </tr>\n",
       "    <tr>\n",
       "      <th>34</th>\n",
       "      <td>Washington</td>\n",
       "      <td>2</td>\n",
       "    </tr>\n",
       "    <tr>\n",
       "      <th>35</th>\n",
       "      <td>Idaho</td>\n",
       "      <td>2</td>\n",
       "    </tr>\n",
       "    <tr>\n",
       "      <th>36</th>\n",
       "      <td>Nebraska</td>\n",
       "      <td>2</td>\n",
       "    </tr>\n",
       "    <tr>\n",
       "      <th>37</th>\n",
       "      <td>Rhode Island</td>\n",
       "      <td>2</td>\n",
       "    </tr>\n",
       "    <tr>\n",
       "      <th>38</th>\n",
       "      <td>Tennessee</td>\n",
       "      <td>2</td>\n",
       "    </tr>\n",
       "    <tr>\n",
       "      <th>39</th>\n",
       "      <td>Maine</td>\n",
       "      <td>2</td>\n",
       "    </tr>\n",
       "    <tr>\n",
       "      <th>40</th>\n",
       "      <td>South Carolina</td>\n",
       "      <td>1</td>\n",
       "    </tr>\n",
       "    <tr>\n",
       "      <th>41</th>\n",
       "      <td>Puerto Rico</td>\n",
       "      <td>1</td>\n",
       "    </tr>\n",
       "    <tr>\n",
       "      <th>42</th>\n",
       "      <td>Arkansas</td>\n",
       "      <td>1</td>\n",
       "    </tr>\n",
       "    <tr>\n",
       "      <th>43</th>\n",
       "      <td>Kansas</td>\n",
       "      <td>1</td>\n",
       "    </tr>\n",
       "    <tr>\n",
       "      <th>44</th>\n",
       "      <td>Mississippi</td>\n",
       "      <td>1</td>\n",
       "    </tr>\n",
       "    <tr>\n",
       "      <th>45</th>\n",
       "      <td>Alabama</td>\n",
       "      <td>1</td>\n",
       "    </tr>\n",
       "    <tr>\n",
       "      <th>46</th>\n",
       "      <td>Louisiana</td>\n",
       "      <td>1</td>\n",
       "    </tr>\n",
       "    <tr>\n",
       "      <th>47</th>\n",
       "      <td>Delaware</td>\n",
       "      <td>1</td>\n",
       "    </tr>\n",
       "    <tr>\n",
       "      <th>48</th>\n",
       "      <td>South Dakota</td>\n",
       "      <td>1</td>\n",
       "    </tr>\n",
       "    <tr>\n",
       "      <th>49</th>\n",
       "      <td>West Virginia</td>\n",
       "      <td>1</td>\n",
       "    </tr>\n",
       "    <tr>\n",
       "      <th>50</th>\n",
       "      <td>North Dakota</td>\n",
       "      <td>1</td>\n",
       "    </tr>\n",
       "    <tr>\n",
       "      <th>51</th>\n",
       "      <td>Wisconsin</td>\n",
       "      <td>1</td>\n",
       "    </tr>\n",
       "  </tbody>\n",
       "</table>\n",
       "</div>"
      ],
      "text/plain": [
       "              state_name  count\n",
       "0             California     66\n",
       "1                Arizona     14\n",
       "2                   Ohio     12\n",
       "3                Florida     12\n",
       "4                  Texas     10\n",
       "5               New York     10\n",
       "6           Pennsylvania     10\n",
       "7               Michigan      9\n",
       "8               Colorado      9\n",
       "9              Minnesota      7\n",
       "10            New Jersey      6\n",
       "11               Indiana      5\n",
       "12        North Carolina      4\n",
       "13         Massachusetts      4\n",
       "14              Maryland      4\n",
       "15              Oklahoma      4\n",
       "16              Virginia      4\n",
       "17                Nevada      4\n",
       "18           Connecticut      4\n",
       "19              Kentucky      3\n",
       "20              Missouri      3\n",
       "21               Wyoming      3\n",
       "22                  Iowa      3\n",
       "23                Hawaii      3\n",
       "24                  Utah      3\n",
       "25               Vermont      3\n",
       "26              Illinois      3\n",
       "27         New Hampshire      2\n",
       "28  District Of Columbia      2\n",
       "29            New Mexico      2\n",
       "30               Montana      2\n",
       "31                Oregon      2\n",
       "32                Alaska      2\n",
       "33               Georgia      2\n",
       "34            Washington      2\n",
       "35                 Idaho      2\n",
       "36              Nebraska      2\n",
       "37          Rhode Island      2\n",
       "38             Tennessee      2\n",
       "39                 Maine      2\n",
       "40        South Carolina      1\n",
       "41           Puerto Rico      1\n",
       "42              Arkansas      1\n",
       "43                Kansas      1\n",
       "44           Mississippi      1\n",
       "45               Alabama      1\n",
       "46             Louisiana      1\n",
       "47              Delaware      1\n",
       "48          South Dakota      1\n",
       "49         West Virginia      1\n",
       "50          North Dakota      1\n",
       "51             Wisconsin      1"
      ]
     },
     "execution_count": 17,
     "metadata": {},
     "output_type": "execute_result"
    }
   ],
   "source": [
    "aqi['state_name'].value_counts().reset_index()\n"
   ]
  },
  {
   "cell_type": "code",
   "execution_count": 61,
   "id": "6c4ce6c2",
   "metadata": {},
   "outputs": [
    {
     "data": {
      "text/html": [
       "<div>\n",
       "<style scoped>\n",
       "    .dataframe tbody tr th:only-of-type {\n",
       "        vertical-align: middle;\n",
       "    }\n",
       "\n",
       "    .dataframe tbody tr th {\n",
       "        vertical-align: top;\n",
       "    }\n",
       "\n",
       "    .dataframe thead th {\n",
       "        text-align: right;\n",
       "    }\n",
       "</style>\n",
       "<table border=\"1\" class=\"dataframe\">\n",
       "  <thead>\n",
       "    <tr style=\"text-align: right;\">\n",
       "      <th></th>\n",
       "      <th>county_name</th>\n",
       "      <th>count</th>\n",
       "    </tr>\n",
       "  </thead>\n",
       "  <tbody>\n",
       "    <tr>\n",
       "      <th>0</th>\n",
       "      <td>Los Angeles</td>\n",
       "      <td>14</td>\n",
       "    </tr>\n",
       "    <tr>\n",
       "      <th>1</th>\n",
       "      <td>Maricopa</td>\n",
       "      <td>8</td>\n",
       "    </tr>\n",
       "    <tr>\n",
       "      <th>2</th>\n",
       "      <td>Wayne</td>\n",
       "      <td>8</td>\n",
       "    </tr>\n",
       "    <tr>\n",
       "      <th>3</th>\n",
       "      <td>San Bernardino</td>\n",
       "      <td>6</td>\n",
       "    </tr>\n",
       "    <tr>\n",
       "      <th>4</th>\n",
       "      <td>Pima</td>\n",
       "      <td>5</td>\n",
       "    </tr>\n",
       "    <tr>\n",
       "      <th>...</th>\n",
       "      <td>...</td>\n",
       "      <td>...</td>\n",
       "    </tr>\n",
       "    <tr>\n",
       "      <th>144</th>\n",
       "      <td>Burleigh</td>\n",
       "      <td>1</td>\n",
       "    </tr>\n",
       "    <tr>\n",
       "      <th>145</th>\n",
       "      <td>Imperial</td>\n",
       "      <td>1</td>\n",
       "    </tr>\n",
       "    <tr>\n",
       "      <th>146</th>\n",
       "      <td>New Haven</td>\n",
       "      <td>1</td>\n",
       "    </tr>\n",
       "    <tr>\n",
       "      <th>147</th>\n",
       "      <td>Mesa</td>\n",
       "      <td>1</td>\n",
       "    </tr>\n",
       "    <tr>\n",
       "      <th>148</th>\n",
       "      <td>Dodge</td>\n",
       "      <td>1</td>\n",
       "    </tr>\n",
       "  </tbody>\n",
       "</table>\n",
       "<p>149 rows × 2 columns</p>\n",
       "</div>"
      ],
      "text/plain": [
       "        county_name  count\n",
       "0       Los Angeles     14\n",
       "1          Maricopa      8\n",
       "2             Wayne      8\n",
       "3    San Bernardino      6\n",
       "4              Pima      5\n",
       "..              ...    ...\n",
       "144        Burleigh      1\n",
       "145        Imperial      1\n",
       "146       New Haven      1\n",
       "147            Mesa      1\n",
       "148           Dodge      1\n",
       "\n",
       "[149 rows x 2 columns]"
      ]
     },
     "execution_count": 61,
     "metadata": {},
     "output_type": "execute_result"
    }
   ],
   "source": [
    "aqi['county_name'].value_counts().reset_index()"
   ]
  },
  {
   "cell_type": "code",
   "execution_count": 62,
   "id": "0fe5e014",
   "metadata": {},
   "outputs": [
    {
     "data": {
      "text/html": [
       "<div>\n",
       "<style scoped>\n",
       "    .dataframe tbody tr th:only-of-type {\n",
       "        vertical-align: middle;\n",
       "    }\n",
       "\n",
       "    .dataframe tbody tr th {\n",
       "        vertical-align: top;\n",
       "    }\n",
       "\n",
       "    .dataframe thead th {\n",
       "        text-align: right;\n",
       "    }\n",
       "</style>\n",
       "<table border=\"1\" class=\"dataframe\">\n",
       "  <thead>\n",
       "    <tr style=\"text-align: right;\">\n",
       "      <th></th>\n",
       "      <th>city_name</th>\n",
       "      <th>count</th>\n",
       "    </tr>\n",
       "  </thead>\n",
       "  <tbody>\n",
       "    <tr>\n",
       "      <th>0</th>\n",
       "      <td>Not in a city</td>\n",
       "      <td>21</td>\n",
       "    </tr>\n",
       "    <tr>\n",
       "      <th>1</th>\n",
       "      <td>Detroit</td>\n",
       "      <td>5</td>\n",
       "    </tr>\n",
       "    <tr>\n",
       "      <th>2</th>\n",
       "      <td>Tucson</td>\n",
       "      <td>5</td>\n",
       "    </tr>\n",
       "    <tr>\n",
       "      <th>3</th>\n",
       "      <td>New York</td>\n",
       "      <td>4</td>\n",
       "    </tr>\n",
       "    <tr>\n",
       "      <th>4</th>\n",
       "      <td>Phoenix</td>\n",
       "      <td>4</td>\n",
       "    </tr>\n",
       "    <tr>\n",
       "      <th>...</th>\n",
       "      <td>...</td>\n",
       "      <td>...</td>\n",
       "    </tr>\n",
       "    <tr>\n",
       "      <th>185</th>\n",
       "      <td>North Laurel</td>\n",
       "      <td>1</td>\n",
       "    </tr>\n",
       "    <tr>\n",
       "      <th>186</th>\n",
       "      <td>Cheektowaga</td>\n",
       "      <td>1</td>\n",
       "    </tr>\n",
       "    <tr>\n",
       "      <th>187</th>\n",
       "      <td>Saint Petersburg</td>\n",
       "      <td>1</td>\n",
       "    </tr>\n",
       "    <tr>\n",
       "      <th>188</th>\n",
       "      <td>Grand Junction</td>\n",
       "      <td>1</td>\n",
       "    </tr>\n",
       "    <tr>\n",
       "      <th>189</th>\n",
       "      <td>Kekoskee</td>\n",
       "      <td>1</td>\n",
       "    </tr>\n",
       "  </tbody>\n",
       "</table>\n",
       "<p>190 rows × 2 columns</p>\n",
       "</div>"
      ],
      "text/plain": [
       "            city_name  count\n",
       "0       Not in a city     21\n",
       "1             Detroit      5\n",
       "2              Tucson      5\n",
       "3            New York      4\n",
       "4             Phoenix      4\n",
       "..                ...    ...\n",
       "185      North Laurel      1\n",
       "186       Cheektowaga      1\n",
       "187  Saint Petersburg      1\n",
       "188    Grand Junction      1\n",
       "189          Kekoskee      1\n",
       "\n",
       "[190 rows x 2 columns]"
      ]
     },
     "execution_count": 62,
     "metadata": {},
     "output_type": "execute_result"
    }
   ],
   "source": [
    "aqi['city_name'].value_counts().reset_index()"
   ]
  },
  {
   "cell_type": "code",
   "execution_count": 18,
   "id": "8fd1f696",
   "metadata": {},
   "outputs": [
    {
     "data": {
      "text/plain": [
       "<Axes: >"
      ]
     },
     "execution_count": 18,
     "metadata": {},
     "output_type": "execute_result"
    },
    {
     "data": {
      "image/png": "[encoded data removed]",
      "text/plain": [
       "<Figure size 640x480 with 1 Axes>"
      ]
     },
     "metadata": {},
     "output_type": "display_data"
    }
   ],
   "source": [
    "aqi['aqi'].hist()"
   ]
  },
  {
   "cell_type": "code",
   "execution_count": 19,
   "id": "aab7bb6c",
   "metadata": {},
   "outputs": [
    {
     "data": {
      "text/plain": [
       "<Axes: >"
      ]
     },
     "execution_count": 19,
     "metadata": {},
     "output_type": "execute_result"
    },
    {
     "data": {
      "image/png": "[encoded data removed]",
      "text/plain": [
       "<Figure size 640x480 with 1 Axes>"
      ]
     },
     "metadata": {},
     "output_type": "display_data"
    }
   ],
   "source": [
    "aqi[aqi['state_name'] == 'California']['aqi'].hist()"
   ]
  },
  {
   "cell_type": "code",
   "execution_count": 23,
   "id": "475e98a2",
   "metadata": {},
   "outputs": [
    {
     "data": {
      "text/html": [
       "<div>\n",
       "<style scoped>\n",
       "    .dataframe tbody tr th:only-of-type {\n",
       "        vertical-align: middle;\n",
       "    }\n",
       "\n",
       "    .dataframe tbody tr th {\n",
       "        vertical-align: top;\n",
       "    }\n",
       "\n",
       "    .dataframe thead th {\n",
       "        text-align: right;\n",
       "    }\n",
       "</style>\n",
       "<table border=\"1\" class=\"dataframe\">\n",
       "  <thead>\n",
       "    <tr style=\"text-align: right;\">\n",
       "      <th></th>\n",
       "      <th>state_name</th>\n",
       "      <th>count</th>\n",
       "    </tr>\n",
       "  </thead>\n",
       "  <tbody>\n",
       "    <tr>\n",
       "      <th>0</th>\n",
       "      <td>Ohio</td>\n",
       "      <td>12</td>\n",
       "    </tr>\n",
       "    <tr>\n",
       "      <th>1</th>\n",
       "      <td>New York</td>\n",
       "      <td>10</td>\n",
       "    </tr>\n",
       "  </tbody>\n",
       "</table>\n",
       "</div>"
      ],
      "text/plain": [
       "  state_name  count\n",
       "0       Ohio     12\n",
       "1   New York     10"
      ]
     },
     "execution_count": 23,
     "metadata": {},
     "output_type": "execute_result"
    }
   ],
   "source": [
    "aqi[(aqi['state_name'] == 'New York') | (aqi['state_name'] == 'Ohio')]['state_name'].value_counts().reset_index()"
   ]
  },
  {
   "cell_type": "code",
   "execution_count": 33,
   "id": "7af0d0dd",
   "metadata": {},
   "outputs": [
    {
     "data": {
      "image/png": "[encoded data removed]",
      "text/plain": [
       "<Figure size 200x400 with 1 Axes>"
      ]
     },
     "metadata": {},
     "output_type": "display_data"
    }
   ],
   "source": [
    "ny_ohio_df = aqi[(aqi['state_name'] == 'New York') | (aqi['state_name'] == 'Ohio')]\n",
    "plt.figure(figsize=(2,4))\n",
    "sns.barplot(data=ny_ohio_df,\n",
    "            x='state_name',\n",
    "            y='aqi')\n",
    "sns.stripplot(data=ny_ohio_df,\n",
    "              x='state_name',\n",
    "              y='aqi',\n",
    "              color='black',\n",
    "              alpha=0.5)\n",
    "plt.show()\n"
   ]
  },
  {
   "cell_type": "code",
   "execution_count": 60,
   "id": "ec4419a2",
   "metadata": {},
   "outputs": [
    {
     "data": {
      "image/png": "[encoded data removed]",
      "text/plain": [
       "<Figure size 1500x400 with 1 Axes>"
      ]
     },
     "metadata": {},
     "output_type": "display_data"
    }
   ],
   "source": [
    "aqi_state_sorted = aqi.sort_values('state_name')\n",
    "\n",
    "plt.figure(figsize=(15,4))\n",
    "sns.barplot(data=aqi_state_sorted,\n",
    "            x='state_name',\n",
    "            y='aqi',\n",
    "            errorbar='ci')\n",
    "plt.xticks(rotation=45, ha='right', fontsize=10)\n",
    "plt.axhline(y=10, color='red', linestyle='--', label='AQI threshold for policy')\n",
    "plt.legend()\n",
    "plt.show()"
   ]
  },
  {
   "cell_type": "markdown",
   "metadata": {
    "id": "4a29c065-73b4-409f-a57c-b49c740f3d1d"
   },
   "source": [
    "#### **Question 1: From the preceding data exploration, what do you recognize?**"
   ]
  },
  {
   "cell_type": "markdown",
   "metadata": {
    "id": "yxdjmP4WJ4wH"
   },
   "source": [
    "* See answer above the analysis."
   ]
  },
  {
   "cell_type": "markdown",
   "metadata": {
    "id": "fd48d0f0-3f90-455e-87a1-0da43fcac202"
   },
   "source": [
    "## Step 3. Statistical Tests\n",
    "\n",
    "Before you proceed, recall the following steps for conducting hypothesis testing:\n",
    "\n",
    "1. Formulate the null hypothesis and the alternative hypothesis.<br>\n",
    "2. Set the significance level.<br>\n",
    "3. Determine the appropriate test procedure.<br>\n",
    "4. Compute the p-value.<br>\n",
    "5. Draw your conclusion."
   ]
  },
  {
   "cell_type": "markdown",
   "metadata": {
    "id": "d572fbab-b82e-4898-96d5-93a8f20c3094"
   },
   "source": [
    "### Hypothesis 1: ROA is considering a metropolitan-focused approach. Within California, they want to know if the mean AQI in Los Angeles County is statistically different from the rest of California.\n",
    "\n",
    "Before proceeding with your analysis, it will be helpful to subset the data for your comparison."
   ]
  },
  {
   "cell_type": "code",
   "execution_count": 70,
   "metadata": {
    "id": "c8e42529-af00-4699-96b4-bd0f8989014a"
   },
   "outputs": [],
   "source": [
    "# Create dataframes for each sample being compared in your test\n",
    "cal_la_aqi = aqi[aqi['county_name'] == 'Los Angeles']\n",
    "cal_rest_aqi = aqi[(aqi['state_name'] == 'California') & (aqi['county_name'] != 'Los Angeles')] \n"
   ]
  },
  {
   "cell_type": "markdown",
   "metadata": {
    "id": "7dff76cf-3a49-49d2-9660-0b5ec17d5f0a"
   },
   "source": [
    "#### Formulate your hypothesis:"
   ]
  },
  {
   "cell_type": "markdown",
   "metadata": {
    "id": "fdddef66-6207-4cc0-853c-0b578674bbfc"
   },
   "source": [
    "**Formulate your null and alternative hypotheses:**\n",
    "\n",
    "*   $H_0$: There is no difference in the mean AQI between Los Angeles County and the rest of California.\n",
    "*   $H_A$: There is a difference in the mean AQI between Los Angeles County and the rest of California.\n"
   ]
  },
  {
   "cell_type": "markdown",
   "metadata": {
    "id": "5dac3136-16bf-45d2-a560-05fe5361f5cb"
   },
   "source": [
    "#### Set the significance level:"
   ]
  },
  {
   "cell_type": "code",
   "execution_count": 71,
   "metadata": {
    "id": "5ef36549-7ccb-4547-bf04-d23b166c65d4"
   },
   "outputs": [],
   "source": [
    "# For this analysis, the significance level is 5%\n",
    "significance_level = 0.05"
   ]
  },
  {
   "cell_type": "markdown",
   "metadata": {
    "id": "4ebb679d-188d-4ca8-a886-6edb9ba1301e"
   },
   "source": [
    "#### Determine the appropriate test procedure:"
   ]
  },
  {
   "cell_type": "markdown",
   "metadata": {
    "id": "ab717428-91e5-4f88-b6d5-0a8c3034e010"
   },
   "source": [
    "Here, you are comparing the sample means between two independent samples. Therefore, you will utilize a **two-sample  𝑡-test**."
   ]
  },
  {
   "cell_type": "markdown",
   "metadata": {
    "id": "e862eb4d-a170-4126-9373-a527bf5659da"
   },
   "source": [
    "#### Compute the P-value"
   ]
  },
  {
   "cell_type": "code",
   "execution_count": 73,
   "metadata": {
    "id": "83ef0d80-48ec-4a5a-8acd-0fab137243c3",
    "tags": []
   },
   "outputs": [
    {
     "data": {
      "text/plain": [
       "TtestResult(statistic=2.1107010796372014, pvalue=0.049839056842410995, df=17.08246830361151)"
      ]
     },
     "execution_count": 73,
     "metadata": {},
     "output_type": "execute_result"
    }
   ],
   "source": [
    "# Compute your p-value here\n",
    "\n",
    "stats.ttest_ind(a=cal_la_aqi['aqi'], b=cal_rest_aqi['aqi'], equal_var=False)"
   ]
  },
  {
   "cell_type": "markdown",
   "metadata": {
    "id": "2d62e8b0-59e5-471d-a5fc-d50395955a2a"
   },
   "source": [
    "#### **Question 2. What is your P-value for hypothesis 1, and what does this indicate for your null hypothesis?**"
   ]
  },
  {
   "cell_type": "markdown",
   "metadata": {
    "id": "KUEKceuOJ1S2"
   },
   "source": [
    "* The p-value is < 0.05 (p = 0.0498), which means the null hypothesis can be rejected in favour of the alternate hypothesis. This means that there is a statistically significant difference between LA and the rest of California."
   ]
  },
  {
   "cell_type": "markdown",
   "metadata": {
    "id": "94a88155-3328-4c7e-8e60-67a2ba9d7967"
   },
   "source": [
    "### Hypothesis 2: With limited resources, ROA has to choose between New York and Ohio for their next regional office. Does New York have a lower AQI than Ohio?\n",
    "\n",
    "Before proceeding with your analysis, it will be helpful to subset the data for your comparison."
   ]
  },
  {
   "cell_type": "code",
   "execution_count": 74,
   "metadata": {
    "id": "f39b7d83-9fbf-4bba-90c2-c99f903badd8"
   },
   "outputs": [],
   "source": [
    "# Create dataframes for each sample being compared in your test\n",
    "ohio_aqi = aqi[aqi['state_name'] == 'Ohio']\n",
    "ny_aqi = aqi[aqi['state_name'] == 'New York']"
   ]
  },
  {
   "cell_type": "markdown",
   "metadata": {
    "id": "7478185b-a351-4c7c-b1b8-6eaa1a26d2ed"
   },
   "source": [
    "#### Formulate your hypothesis:"
   ]
  },
  {
   "cell_type": "markdown",
   "metadata": {
    "id": "029b0f9c-0d0c-475f-b745-643a313e2b79"
   },
   "source": [
    "**Formulate your null and alternative hypotheses:**\n",
    "\n",
    "*   $H_0$: The mean AQI of New York is greater than or equal to that of Ohio.\n",
    "*   $H_A$: The mean AQI of New York is **below** that of Ohio.\n"
   ]
  },
  {
   "cell_type": "markdown",
   "metadata": {
    "id": "b12559f5-bd57-4664-be80-7208ca8818b4"
   },
   "source": [
    "#### Significance Level (remains at 5%)"
   ]
  },
  {
   "cell_type": "markdown",
   "metadata": {
    "id": "2b57fcf8-6f9d-4dae-ba0d-4af9a24d991d"
   },
   "source": [
    "#### Determine the appropriate test procedure:"
   ]
  },
  {
   "cell_type": "markdown",
   "metadata": {
    "id": "8ac7075f-1342-4522-9c49-1f43574d05f8"
   },
   "source": [
    "Here, you are comparing the sample means between two independent samples in one direction. Therefore, you will utilize a **two-sample  𝑡-test**."
   ]
  },
  {
   "cell_type": "markdown",
   "metadata": {
    "id": "77f03fc8-0663-48b2-af4b-2936b35027e7"
   },
   "source": [
    "#### Compute the P-value"
   ]
  },
  {
   "cell_type": "code",
   "execution_count": 78,
   "metadata": {
    "id": "e495500f-c3d9-4cf2-ad1d-4687640a01b4",
    "tags": []
   },
   "outputs": [
    {
     "name": "stdout",
     "output_type": "stream",
     "text": [
      "-2.025951038880333\n",
      "0.03044650269193468\n"
     ]
    }
   ],
   "source": [
    "# One tailed t test \n",
    "tstat, pvalue = stats.ttest_ind(a=ny_aqi['aqi'], b=ohio_aqi['aqi'], alternative='less', equal_var=False)\n",
    "print(tstat)\n",
    "print(pvalue)"
   ]
  },
  {
   "cell_type": "markdown",
   "metadata": {
    "id": "d56642db-8f45-405a-af7d-69bd3ad3fe58"
   },
   "source": [
    "#### **Question 3. What is your P-value for hypothesis 2, and what does this indicate for your null hypothesis?**"
   ]
  },
  {
   "cell_type": "markdown",
   "metadata": {
    "id": "dFDxoQ9aJxz3"
   },
   "source": [
    "p = 0.03, p < 0.05, null hypothesis can be rejected in favour of the alternate hypothesis: NY has a lower mean AQI than Ohio."
   ]
  },
  {
   "cell_type": "markdown",
   "metadata": {
    "id": "4308fdf1-3080-4697-a0b4-4c7c59c49b9b"
   },
   "source": [
    "###  Hypothesis 3: A new policy will affect those states with a mean AQI of 10 or greater. Will Michigan be affected by this new policy?\n",
    "\n",
    "Before proceeding with your analysis, it will be helpful to subset the data for your comparison."
   ]
  },
  {
   "cell_type": "code",
   "execution_count": 79,
   "metadata": {
    "id": "559c43b4-ccb3-4a05-91d4-8f4aaee4d8b7"
   },
   "outputs": [],
   "source": [
    "# Create dataframes for each sample being compared in your test\n",
    "michigan_aqi = aqi[aqi['state_name'] == 'Michigan']"
   ]
  },
  {
   "cell_type": "markdown",
   "metadata": {
    "id": "6886d303-82ca-42c5-980c-3893868241eb"
   },
   "source": [
    "#### Formulate your hypothesis:"
   ]
  },
  {
   "cell_type": "markdown",
   "metadata": {
    "id": "b25225ee-02d7-4d42-8746-9e68598b7bf6"
   },
   "source": [
    "**Formulate your null and alternative hypotheses here:**\n",
    "\n",
    "*   $H_0$: The mean AQI of Michigan is less than or equal to 10.\n",
    "*   $H_A$: The mean AQI of Michigan is greater than 10.\n"
   ]
  },
  {
   "cell_type": "markdown",
   "metadata": {
    "id": "32581125-a9ef-4b17-b8d5-0e1085d4c746"
   },
   "source": [
    "#### Significance Level (remains at 5%)"
   ]
  },
  {
   "cell_type": "markdown",
   "metadata": {
    "id": "915f8cd0-d06b-44ab-81f6-0effa96fae09"
   },
   "source": [
    "#### Determine the appropriate test procedure:"
   ]
  },
  {
   "cell_type": "markdown",
   "metadata": {
    "id": "6753e251-d152-48c9-a5ad-bd46b62636ee"
   },
   "source": [
    "Here, you are comparing one sample mean relative to a particular value in one direction. Therefore, you will utilize a **one-sample  𝑡-test**. "
   ]
  },
  {
   "cell_type": "markdown",
   "metadata": {
    "id": "95443324-76bb-4473-b07b-dcc0c9be7251"
   },
   "source": [
    "#### Compute the P-value"
   ]
  },
  {
   "cell_type": "code",
   "execution_count": 80,
   "metadata": {
    "id": "8b86c9f5-284a-4ed7-b2d4-2b531e0092f9",
    "tags": []
   },
   "outputs": [
    {
     "name": "stdout",
     "output_type": "stream",
     "text": [
      "-1.7395913343286131\n",
      "0.9399405193140109\n"
     ]
    }
   ],
   "source": [
    "# Compute your p-value here\n",
    "\n",
    "tstat, pvalue = stats.ttest_1samp(michigan_aqi['aqi'], 10, alternative='greater')\n",
    "print(tstat)\n",
    "print(pvalue)"
   ]
  },
  {
   "cell_type": "markdown",
   "metadata": {
    "id": "33175451-2fed-4105-8a46-1bfb0ad3b714"
   },
   "source": [
    "#### **Question 4. What is your P-value for hypothesis 3, and what does this indicate for your null hypothesis?**"
   ]
  },
  {
   "cell_type": "markdown",
   "metadata": {
    "id": "Li8YaXdqJuBF"
   },
   "source": [
    "p-value = 0.94 --> p > 0.05 --> Null hypothesis cannot be rejected. Michigan's AQI is not statistically greater than 10, meaning it won't likely be affected by the policy."
   ]
  },
  {
   "cell_type": "markdown",
   "metadata": {
    "id": "oS3JWcpU127z"
   },
   "source": [
    "## Step 4. Results and Evaluation\n",
    "\n",
    "Now that you've completed your statistical tests, you can consider your hypotheses and the results you gathered."
   ]
  },
  {
   "cell_type": "markdown",
   "metadata": {
    "id": "q2p_8BmC16V-"
   },
   "source": [
    "#### **Question 5. Did your results show that the AQI in Los Angeles County was statistically different from the rest of California?**"
   ]
  },
  {
   "cell_type": "markdown",
   "metadata": {
    "id": "US0JnLp3JrfX"
   },
   "source": [
    "Yes, Los Angeles was statistically different from California. "
   ]
  },
  {
   "cell_type": "markdown",
   "metadata": {
    "id": "G7-YawsW68Yd"
   },
   "source": [
    "#### **Question 6. Did New York or Ohio have a lower AQI?**"
   ]
  },
  {
   "cell_type": "markdown",
   "metadata": {
    "id": "zzSBoJwMJpgG"
   },
   "source": [
    "New York had a statistically lower AQI than Ohio. "
   ]
  },
  {
   "cell_type": "markdown",
   "metadata": {
    "id": "ppAmh9nD7HkZ"
   },
   "source": [
    "#### **Question 7: Will Michigan be affected by the new policy impacting states with a mean AQI of 10 or greater?**\n",
    "\n"
   ]
  },
  {
   "cell_type": "markdown",
   "metadata": {
    "id": "1nfqgTngJnLV"
   },
   "source": [
    "Michigan's AQI was not statistically different from 10, therefore it won't likely be affected by the new policy."
   ]
  },
  {
   "cell_type": "markdown",
   "metadata": {
    "id": "e2bf2c48-c712-4310-a83e-96a13edc4da1"
   },
   "source": [
    "# Conclusion\n",
    "\n",
    "**What are key takeaways from this lab?**\n",
    "\n",
    "* Hypothesis testing is key for adressing whether the differences seen between populations are likely to be observed by chance.\n",
    "\n",
    "**What would you consider presenting to your manager as part of your findings?**\n",
    "* Report value of sample statistic compared, type of test performed, siginificance threshold used, the obtained p value and conclusions.\n",
    "\n",
    "**What would you convey to external stakeholders?**\n",
    "* Significance level used, conclusions based on the significance treshold.  Sample statistics, especially if the null hypothesis is rejected could also be meaningful. \n"
   ]
  }
 ],
 "metadata": {
  "colab": {
   "collapsed_sections": [
    "b12559f5-bd57-4664-be80-7208ca8818b4",
    "32581125-a9ef-4b17-b8d5-0e1085d4c746"
   ],
   "provenance": []
  },
  "kernelspec": {
   "display_name": "Python 3",
   "language": "python",
   "name": "python3"
  },
  "language_info": {
   "codemirror_mode": {
    "name": "ipython",
    "version": 3
   },
   "file_extension": ".py",
   "mimetype": "text/x-python",
   "name": "python",
   "nbconvert_exporter": "python",
   "pygments_lexer": "ipython3",
   "version": "3.10.13"
  }
 },
 "nbformat": 4,
 "nbformat_minor": 5
}
