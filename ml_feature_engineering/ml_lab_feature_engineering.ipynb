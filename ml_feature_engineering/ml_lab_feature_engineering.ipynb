{
 "cells": [
  {
   "cell_type": "markdown",
   "metadata": {
    "id": "yugMU9MjJtBl"
   },
   "source": [
    "# Activity: Perform feature engineering "
   ]
  },
  {
   "cell_type": "markdown",
   "metadata": {
    "id": "EzWqJunmJotv"
   },
   "source": [
    "## **Introduction**\n",
    "\n",
    "\n",
    "As you're learning, data professionals working on modeling projects use featuring engineering to help them determine which attributes in the data can best predict certain measures.\n",
    "\n",
    "In this activity, you are working for a firm that provides insights to the National Basketball Association (NBA), a professional North American basketball league. You will help NBA managers and coaches identify which players are most likely to thrive in the high-pressure environment of professional basketball and help the team be successful over time.\n",
    "\n",
    "To do this, you will analyze a subset of data that contains information about NBA players and their performance records. You will conduct feature engineering to determine which features will most effectively predict whether a player's NBA career will last at least five years. The insights gained then will be used in the next stage of the project: building the predictive model.\n"
   ]
  },
  {
   "cell_type": "markdown",
   "metadata": {
    "id": "yTVinL1hJqoy"
   },
   "source": [
    "## **Step 1: Imports** \n"
   ]
  },
  {
   "cell_type": "markdown",
   "metadata": {},
   "source": [
    "Start by importing `pandas`."
   ]
  },
  {
   "cell_type": "code",
   "execution_count": 1,
   "metadata": {
    "id": "1nDjAJPa4lVZ"
   },
   "outputs": [],
   "source": [
    "# Import pandas.\n",
    "import pandas as pd"
   ]
  },
  {
   "cell_type": "markdown",
   "metadata": {
    "id": "hKylHziGzY3X"
   },
   "source": [
    "The dataset is a .csv file named `nba-players.csv`. It consists of performance records for a subset of NBA players. As shown in this cell, the dataset has been automatically loaded in for you. You do not need to download the .csv file, or provide more code, in order to access the dataset and proceed with this lab. Please continue with this activity by completing the following instructions."
   ]
  },
  {
   "cell_type": "code",
   "execution_count": 2,
   "metadata": {
    "id": "4ebqpNcm4BDH"
   },
   "outputs": [],
   "source": [
    "\n",
    "# Save the data in a variable named `data`.\n",
    "data = pd.read_csv(\"nba-players.csv\", index_col=0)"
   ]
  },
  {
   "cell_type": "markdown",
   "metadata": {
    "id": "4zz8claq0Swi"
   },
   "source": [
    "## **Step 2: Data exploration** "
   ]
  },
  {
   "cell_type": "markdown",
   "metadata": {
    "id": "8kgPx_MP0cuc"
   },
   "source": [
    "Display the first 10 rows of the data to get a sense of what it entails."
   ]
  },
  {
   "cell_type": "code",
   "execution_count": 4,
   "metadata": {
    "id": "0_U0Rb-x4h77"
   },
   "outputs": [
    {
     "data": {
      "text/html": [
       "<div>\n",
       "<style scoped>\n",
       "    .dataframe tbody tr th:only-of-type {\n",
       "        vertical-align: middle;\n",
       "    }\n",
       "\n",
       "    .dataframe tbody tr th {\n",
       "        vertical-align: top;\n",
       "    }\n",
       "\n",
       "    .dataframe thead th {\n",
       "        text-align: right;\n",
       "    }\n",
       "</style>\n",
       "<table border=\"1\" class=\"dataframe\">\n",
       "  <thead>\n",
       "    <tr style=\"text-align: right;\">\n",
       "      <th></th>\n",
       "      <th>name</th>\n",
       "      <th>gp</th>\n",
       "      <th>min</th>\n",
       "      <th>pts</th>\n",
       "      <th>fgm</th>\n",
       "      <th>fga</th>\n",
       "      <th>fg</th>\n",
       "      <th>3p_made</th>\n",
       "      <th>3pa</th>\n",
       "      <th>3p</th>\n",
       "      <th>...</th>\n",
       "      <th>fta</th>\n",
       "      <th>ft</th>\n",
       "      <th>oreb</th>\n",
       "      <th>dreb</th>\n",
       "      <th>reb</th>\n",
       "      <th>ast</th>\n",
       "      <th>stl</th>\n",
       "      <th>blk</th>\n",
       "      <th>tov</th>\n",
       "      <th>target_5yrs</th>\n",
       "    </tr>\n",
       "  </thead>\n",
       "  <tbody>\n",
       "    <tr>\n",
       "      <th>0</th>\n",
       "      <td>Brandon Ingram</td>\n",
       "      <td>36</td>\n",
       "      <td>27.4</td>\n",
       "      <td>7.4</td>\n",
       "      <td>2.6</td>\n",
       "      <td>7.6</td>\n",
       "      <td>34.7</td>\n",
       "      <td>0.5</td>\n",
       "      <td>2.1</td>\n",
       "      <td>25.0</td>\n",
       "      <td>...</td>\n",
       "      <td>2.3</td>\n",
       "      <td>69.9</td>\n",
       "      <td>0.7</td>\n",
       "      <td>3.4</td>\n",
       "      <td>4.1</td>\n",
       "      <td>1.9</td>\n",
       "      <td>0.4</td>\n",
       "      <td>0.4</td>\n",
       "      <td>1.3</td>\n",
       "      <td>0</td>\n",
       "    </tr>\n",
       "    <tr>\n",
       "      <th>1</th>\n",
       "      <td>Andrew Harrison</td>\n",
       "      <td>35</td>\n",
       "      <td>26.9</td>\n",
       "      <td>7.2</td>\n",
       "      <td>2.0</td>\n",
       "      <td>6.7</td>\n",
       "      <td>29.6</td>\n",
       "      <td>0.7</td>\n",
       "      <td>2.8</td>\n",
       "      <td>23.5</td>\n",
       "      <td>...</td>\n",
       "      <td>3.4</td>\n",
       "      <td>76.5</td>\n",
       "      <td>0.5</td>\n",
       "      <td>2.0</td>\n",
       "      <td>2.4</td>\n",
       "      <td>3.7</td>\n",
       "      <td>1.1</td>\n",
       "      <td>0.5</td>\n",
       "      <td>1.6</td>\n",
       "      <td>0</td>\n",
       "    </tr>\n",
       "    <tr>\n",
       "      <th>2</th>\n",
       "      <td>JaKarr Sampson</td>\n",
       "      <td>74</td>\n",
       "      <td>15.3</td>\n",
       "      <td>5.2</td>\n",
       "      <td>2.0</td>\n",
       "      <td>4.7</td>\n",
       "      <td>42.2</td>\n",
       "      <td>0.4</td>\n",
       "      <td>1.7</td>\n",
       "      <td>24.4</td>\n",
       "      <td>...</td>\n",
       "      <td>1.3</td>\n",
       "      <td>67.0</td>\n",
       "      <td>0.5</td>\n",
       "      <td>1.7</td>\n",
       "      <td>2.2</td>\n",
       "      <td>1.0</td>\n",
       "      <td>0.5</td>\n",
       "      <td>0.3</td>\n",
       "      <td>1.0</td>\n",
       "      <td>0</td>\n",
       "    </tr>\n",
       "    <tr>\n",
       "      <th>3</th>\n",
       "      <td>Malik Sealy</td>\n",
       "      <td>58</td>\n",
       "      <td>11.6</td>\n",
       "      <td>5.7</td>\n",
       "      <td>2.3</td>\n",
       "      <td>5.5</td>\n",
       "      <td>42.6</td>\n",
       "      <td>0.1</td>\n",
       "      <td>0.5</td>\n",
       "      <td>22.6</td>\n",
       "      <td>...</td>\n",
       "      <td>1.3</td>\n",
       "      <td>68.9</td>\n",
       "      <td>1.0</td>\n",
       "      <td>0.9</td>\n",
       "      <td>1.9</td>\n",
       "      <td>0.8</td>\n",
       "      <td>0.6</td>\n",
       "      <td>0.1</td>\n",
       "      <td>1.0</td>\n",
       "      <td>1</td>\n",
       "    </tr>\n",
       "    <tr>\n",
       "      <th>4</th>\n",
       "      <td>Matt Geiger</td>\n",
       "      <td>48</td>\n",
       "      <td>11.5</td>\n",
       "      <td>4.5</td>\n",
       "      <td>1.6</td>\n",
       "      <td>3.0</td>\n",
       "      <td>52.4</td>\n",
       "      <td>0.0</td>\n",
       "      <td>0.1</td>\n",
       "      <td>0.0</td>\n",
       "      <td>...</td>\n",
       "      <td>1.9</td>\n",
       "      <td>67.4</td>\n",
       "      <td>1.0</td>\n",
       "      <td>1.5</td>\n",
       "      <td>2.5</td>\n",
       "      <td>0.3</td>\n",
       "      <td>0.3</td>\n",
       "      <td>0.4</td>\n",
       "      <td>0.8</td>\n",
       "      <td>1</td>\n",
       "    </tr>\n",
       "    <tr>\n",
       "      <th>5</th>\n",
       "      <td>Tony Bennett</td>\n",
       "      <td>75</td>\n",
       "      <td>11.4</td>\n",
       "      <td>3.7</td>\n",
       "      <td>1.5</td>\n",
       "      <td>3.5</td>\n",
       "      <td>42.3</td>\n",
       "      <td>0.3</td>\n",
       "      <td>1.1</td>\n",
       "      <td>32.5</td>\n",
       "      <td>...</td>\n",
       "      <td>0.5</td>\n",
       "      <td>73.2</td>\n",
       "      <td>0.2</td>\n",
       "      <td>0.7</td>\n",
       "      <td>0.8</td>\n",
       "      <td>1.8</td>\n",
       "      <td>0.4</td>\n",
       "      <td>0.0</td>\n",
       "      <td>0.7</td>\n",
       "      <td>0</td>\n",
       "    </tr>\n",
       "    <tr>\n",
       "      <th>6</th>\n",
       "      <td>Don MacLean</td>\n",
       "      <td>62</td>\n",
       "      <td>10.9</td>\n",
       "      <td>6.6</td>\n",
       "      <td>2.5</td>\n",
       "      <td>5.8</td>\n",
       "      <td>43.5</td>\n",
       "      <td>0.0</td>\n",
       "      <td>0.1</td>\n",
       "      <td>50.0</td>\n",
       "      <td>...</td>\n",
       "      <td>1.8</td>\n",
       "      <td>81.1</td>\n",
       "      <td>0.5</td>\n",
       "      <td>1.4</td>\n",
       "      <td>2.0</td>\n",
       "      <td>0.6</td>\n",
       "      <td>0.2</td>\n",
       "      <td>0.1</td>\n",
       "      <td>0.7</td>\n",
       "      <td>1</td>\n",
       "    </tr>\n",
       "    <tr>\n",
       "      <th>7</th>\n",
       "      <td>Tracy Murray</td>\n",
       "      <td>48</td>\n",
       "      <td>10.3</td>\n",
       "      <td>5.7</td>\n",
       "      <td>2.3</td>\n",
       "      <td>5.4</td>\n",
       "      <td>41.5</td>\n",
       "      <td>0.4</td>\n",
       "      <td>1.5</td>\n",
       "      <td>30.0</td>\n",
       "      <td>...</td>\n",
       "      <td>0.8</td>\n",
       "      <td>87.5</td>\n",
       "      <td>0.8</td>\n",
       "      <td>0.9</td>\n",
       "      <td>1.7</td>\n",
       "      <td>0.2</td>\n",
       "      <td>0.2</td>\n",
       "      <td>0.1</td>\n",
       "      <td>0.7</td>\n",
       "      <td>1</td>\n",
       "    </tr>\n",
       "    <tr>\n",
       "      <th>8</th>\n",
       "      <td>Duane Cooper</td>\n",
       "      <td>65</td>\n",
       "      <td>9.9</td>\n",
       "      <td>2.4</td>\n",
       "      <td>1.0</td>\n",
       "      <td>2.4</td>\n",
       "      <td>39.2</td>\n",
       "      <td>0.1</td>\n",
       "      <td>0.5</td>\n",
       "      <td>23.3</td>\n",
       "      <td>...</td>\n",
       "      <td>0.5</td>\n",
       "      <td>71.4</td>\n",
       "      <td>0.2</td>\n",
       "      <td>0.6</td>\n",
       "      <td>0.8</td>\n",
       "      <td>2.3</td>\n",
       "      <td>0.3</td>\n",
       "      <td>0.0</td>\n",
       "      <td>1.1</td>\n",
       "      <td>0</td>\n",
       "    </tr>\n",
       "    <tr>\n",
       "      <th>9</th>\n",
       "      <td>Dave Johnson</td>\n",
       "      <td>42</td>\n",
       "      <td>8.5</td>\n",
       "      <td>3.7</td>\n",
       "      <td>1.4</td>\n",
       "      <td>3.5</td>\n",
       "      <td>38.3</td>\n",
       "      <td>0.1</td>\n",
       "      <td>0.3</td>\n",
       "      <td>21.4</td>\n",
       "      <td>...</td>\n",
       "      <td>1.4</td>\n",
       "      <td>67.8</td>\n",
       "      <td>0.4</td>\n",
       "      <td>0.7</td>\n",
       "      <td>1.1</td>\n",
       "      <td>0.3</td>\n",
       "      <td>0.2</td>\n",
       "      <td>0.0</td>\n",
       "      <td>0.7</td>\n",
       "      <td>0</td>\n",
       "    </tr>\n",
       "  </tbody>\n",
       "</table>\n",
       "<p>10 rows × 21 columns</p>\n",
       "</div>"
      ],
      "text/plain": [
       "              name  gp   min  pts  fgm  fga    fg  3p_made  3pa    3p  ...  \\\n",
       "0   Brandon Ingram  36  27.4  7.4  2.6  7.6  34.7      0.5  2.1  25.0  ...   \n",
       "1  Andrew Harrison  35  26.9  7.2  2.0  6.7  29.6      0.7  2.8  23.5  ...   \n",
       "2   JaKarr Sampson  74  15.3  5.2  2.0  4.7  42.2      0.4  1.7  24.4  ...   \n",
       "3      Malik Sealy  58  11.6  5.7  2.3  5.5  42.6      0.1  0.5  22.6  ...   \n",
       "4      Matt Geiger  48  11.5  4.5  1.6  3.0  52.4      0.0  0.1   0.0  ...   \n",
       "5     Tony Bennett  75  11.4  3.7  1.5  3.5  42.3      0.3  1.1  32.5  ...   \n",
       "6      Don MacLean  62  10.9  6.6  2.5  5.8  43.5      0.0  0.1  50.0  ...   \n",
       "7     Tracy Murray  48  10.3  5.7  2.3  5.4  41.5      0.4  1.5  30.0  ...   \n",
       "8     Duane Cooper  65   9.9  2.4  1.0  2.4  39.2      0.1  0.5  23.3  ...   \n",
       "9     Dave Johnson  42   8.5  3.7  1.4  3.5  38.3      0.1  0.3  21.4  ...   \n",
       "\n",
       "   fta    ft  oreb  dreb  reb  ast  stl  blk  tov  target_5yrs  \n",
       "0  2.3  69.9   0.7   3.4  4.1  1.9  0.4  0.4  1.3            0  \n",
       "1  3.4  76.5   0.5   2.0  2.4  3.7  1.1  0.5  1.6            0  \n",
       "2  1.3  67.0   0.5   1.7  2.2  1.0  0.5  0.3  1.0            0  \n",
       "3  1.3  68.9   1.0   0.9  1.9  0.8  0.6  0.1  1.0            1  \n",
       "4  1.9  67.4   1.0   1.5  2.5  0.3  0.3  0.4  0.8            1  \n",
       "5  0.5  73.2   0.2   0.7  0.8  1.8  0.4  0.0  0.7            0  \n",
       "6  1.8  81.1   0.5   1.4  2.0  0.6  0.2  0.1  0.7            1  \n",
       "7  0.8  87.5   0.8   0.9  1.7  0.2  0.2  0.1  0.7            1  \n",
       "8  0.5  71.4   0.2   0.6  0.8  2.3  0.3  0.0  1.1            0  \n",
       "9  1.4  67.8   0.4   0.7  1.1  0.3  0.2  0.0  0.7            0  \n",
       "\n",
       "[10 rows x 21 columns]"
      ]
     },
     "execution_count": 4,
     "metadata": {},
     "output_type": "execute_result"
    }
   ],
   "source": [
    "# Display first 10 rows of data.\n",
    "data.head(n=10)"
   ]
  },
  {
   "cell_type": "markdown",
   "metadata": {
    "id": "Gjasizab0tSL"
   },
   "source": [
    "Display the number of rows and the number of columns to get a sense of how much data is available to you."
   ]
  },
  {
   "cell_type": "code",
   "execution_count": 5,
   "metadata": {
    "id": "xtxpSjCm4jCa"
   },
   "outputs": [
    {
     "data": {
      "text/plain": [
       "(1340, 21)"
      ]
     },
     "execution_count": 5,
     "metadata": {},
     "output_type": "execute_result"
    }
   ],
   "source": [
    "# Display number of rows, number of columns.\n",
    "data.shape"
   ]
  },
  {
   "cell_type": "markdown",
   "metadata": {
    "id": "zZndsnPq1UyL"
   },
   "source": [
    "**Question:** What do you observe about the number of rows and the number of columns in the data?"
   ]
  },
  {
   "cell_type": "markdown",
   "metadata": {
    "id": "PyElw2KWziLs"
   },
   "source": [
    "There are 21 columns and 1340 rows in the data. "
   ]
  },
  {
   "cell_type": "markdown",
   "metadata": {
    "id": "27OsOXsfVPC7"
   },
   "source": [
    "Now, display all column names to get a sense of the kinds of metadata available about each player. Use the columns property in pandas.\n"
   ]
  },
  {
   "cell_type": "code",
   "execution_count": 6,
   "metadata": {
    "id": "3q9zjB-s1SZt"
   },
   "outputs": [
    {
     "data": {
      "text/plain": [
       "Index(['name', 'gp', 'min', 'pts', 'fgm', 'fga', 'fg', '3p_made', '3pa', '3p',\n",
       "       'ftm', 'fta', 'ft', 'oreb', 'dreb', 'reb', 'ast', 'stl', 'blk', 'tov',\n",
       "       'target_5yrs'],\n",
       "      dtype='object')"
      ]
     },
     "execution_count": 6,
     "metadata": {},
     "output_type": "execute_result"
    }
   ],
   "source": [
    "# Display all column names.\n",
    "data.columns\n"
   ]
  },
  {
   "cell_type": "markdown",
   "metadata": {
    "id": "bxS9GyWmjwa-"
   },
   "source": [
    "The following table provides a description of the data in each column. This metadata comes from the data source, which is listed in the references section of this lab.\n",
    "\n",
    "<center>\n",
    "\n",
    "|Column Name|Column Description|\n",
    "|:---|:-------|\n",
    "|`name`|Name of NBA player|\n",
    "|`gp`|Number of games played|\n",
    "|`min`|Number of minutes played per game|\n",
    "|`pts`|Average number of points per game|\n",
    "|`fgm`|Average number of field goals made per game|\n",
    "|`fga`|Average number of field goal attempts per game|\n",
    "|`fg`|Average percent of field goals made per game|\n",
    "|`3p_made`|Average number of three-point field goals made per game|\n",
    "|`3pa`|Average number of three-point field goal attempts per game|\n",
    "|`3p`|Average percent of three-point field goals made per game|\n",
    "|`ftm`|Average number of free throws made per game|\n",
    "|`fta`|Average number of free throw attempts per game|\n",
    "|`ft`|Average percent of free throws made per game|\n",
    "|`oreb`|Average number of offensive rebounds per game|\n",
    "|`dreb`|Average number of defensive rebounds per game|\n",
    "|`reb`|Average number of rebounds per game|\n",
    "|`ast`|Average number of assists per game|\n",
    "|`stl`|Average number of steals per game|\n",
    "|`blk`|Average number of blocks per game|\n",
    "|`tov`|Average number of turnovers per game|\n",
    "|`target_5yrs`|1 if career duration >= 5 yrs, 0 otherwise|\n",
    "\n",
    "</center>"
   ]
  },
  {
   "cell_type": "markdown",
   "metadata": {
    "id": "HvomDnvFq4DW"
   },
   "source": [
    "Next, display a summary of the data to get additional information about the DataFrame, including the types of data in the columns."
   ]
  },
  {
   "cell_type": "code",
   "execution_count": 8,
   "metadata": {
    "id": "28h2TzH-o8NQ"
   },
   "outputs": [
    {
     "name": "stdout",
     "output_type": "stream",
     "text": [
      "<class 'pandas.core.frame.DataFrame'>\n",
      "Index: 1340 entries, 0 to 1339\n",
      "Data columns (total 21 columns):\n",
      " #   Column       Non-Null Count  Dtype  \n",
      "---  ------       --------------  -----  \n",
      " 0   name         1340 non-null   object \n",
      " 1   gp           1340 non-null   int64  \n",
      " 2   min          1340 non-null   float64\n",
      " 3   pts          1340 non-null   float64\n",
      " 4   fgm          1340 non-null   float64\n",
      " 5   fga          1340 non-null   float64\n",
      " 6   fg           1340 non-null   float64\n",
      " 7   3p_made      1340 non-null   float64\n",
      " 8   3pa          1340 non-null   float64\n",
      " 9   3p           1340 non-null   float64\n",
      " 10  ftm          1340 non-null   float64\n",
      " 11  fta          1340 non-null   float64\n",
      " 12  ft           1340 non-null   float64\n",
      " 13  oreb         1340 non-null   float64\n",
      " 14  dreb         1340 non-null   float64\n",
      " 15  reb          1340 non-null   float64\n",
      " 16  ast          1340 non-null   float64\n",
      " 17  stl          1340 non-null   float64\n",
      " 18  blk          1340 non-null   float64\n",
      " 19  tov          1340 non-null   float64\n",
      " 20  target_5yrs  1340 non-null   int64  \n",
      "dtypes: float64(18), int64(2), object(1)\n",
      "memory usage: 230.3+ KB\n"
     ]
    }
   ],
   "source": [
    "# Use .info() to display a summary of the DataFrame.\n",
    "data.info()"
   ]
  },
  {
   "cell_type": "markdown",
   "metadata": {
    "id": "0ajEYod6B7QJ"
   },
   "source": [
    "**Question:** Based on the preceding tables, which columns are numerical and which columns are categorical?"
   ]
  },
  {
   "cell_type": "markdown",
   "metadata": {
    "id": "5a-RfDKYzjN1"
   },
   "source": [
    "* Except for `name` and `target_5yrs`, all other columns are numberical. `target_5yrs` is categorical while `name` is the primary key of of the data. "
   ]
  },
  {
   "cell_type": "markdown",
   "metadata": {
    "id": "VtL_ZDZC1xgF"
   },
   "source": [
    "### Check for missing values"
   ]
  },
  {
   "cell_type": "markdown",
   "metadata": {},
   "source": [
    "Now, review the data to determine whether it contains any missing values. Begin by displaying the number of missing values in each column. After that, use isna() to check whether each value in the data is missing. Finally, use sum() to aggregate the number of missing values per column.\n"
   ]
  },
  {
   "cell_type": "code",
   "execution_count": 10,
   "metadata": {
    "id": "_EGgJ5k92KX_"
   },
   "outputs": [
    {
     "data": {
      "text/plain": [
       "name           0\n",
       "gp             0\n",
       "min            0\n",
       "pts            0\n",
       "fgm            0\n",
       "fga            0\n",
       "fg             0\n",
       "3p_made        0\n",
       "3pa            0\n",
       "3p             0\n",
       "ftm            0\n",
       "fta            0\n",
       "ft             0\n",
       "oreb           0\n",
       "dreb           0\n",
       "reb            0\n",
       "ast            0\n",
       "stl            0\n",
       "blk            0\n",
       "tov            0\n",
       "target_5yrs    0\n",
       "dtype: int64"
      ]
     },
     "execution_count": 10,
     "metadata": {},
     "output_type": "execute_result"
    }
   ],
   "source": [
    "# Display the number of missing values in each column.\n",
    "data.isna().sum()"
   ]
  },
  {
   "cell_type": "markdown",
   "metadata": {
    "id": "qcLj6oPd2FVQ"
   },
   "source": [
    "**Question:** What do you observe about the missing values in the columns? "
   ]
  },
  {
   "cell_type": "markdown",
   "metadata": {
    "id": "MGjdyuaczjmX"
   },
   "source": [
    "* There are no columns with missing values in this dataset. "
   ]
  },
  {
   "cell_type": "markdown",
   "metadata": {},
   "source": [
    "**Question:** Why is it important to check for missing values?"
   ]
  },
  {
   "cell_type": "markdown",
   "metadata": {},
   "source": [
    "* Missing values can affect the model accuracy, and usally need to be removed to clean the data. "
   ]
  },
  {
   "cell_type": "markdown",
   "metadata": {
    "id": "MY0rAjlZAheh"
   },
   "source": [
    "## **Step 3: Statistical tests** \n",
    "\n"
   ]
  },
  {
   "cell_type": "markdown",
   "metadata": {
    "id": "v6VpTiBeGvyO"
   },
   "source": [
    "Next, use a statistical technique to check the class balance in the data. To understand how balanced the dataset is in terms of class, display the percentage of values that belong to each class in the target column. In this context, class 1 indicates an NBA career duration of at least five years, while class 0 indicates an NBA career duration of less than five years."
   ]
  },
  {
   "cell_type": "code",
   "execution_count": 17,
   "metadata": {
    "id": "gUEgzQW_6oMV"
   },
   "outputs": [
    {
     "data": {
      "text/plain": [
       "target_5yrs\n",
       "1    62.014925\n",
       "0    37.985075\n",
       "Name: proportion, dtype: float64"
      ]
     },
     "execution_count": 17,
     "metadata": {},
     "output_type": "execute_result"
    }
   ],
   "source": [
    "# Display percentage (%) of values for each class (1, 0) represented in the target column of this dataset.\n",
    "\n",
    "data['target_5yrs'].value_counts(normalize=True)*100\n"
   ]
  },
  {
   "cell_type": "markdown",
   "metadata": {
    "id": "uMcdNVQW8K2D"
   },
   "source": [
    "**Question:** What do you observe about the class balance in the target column?"
   ]
  },
  {
   "cell_type": "markdown",
   "metadata": {
    "id": "eDXjxG94zkZO"
   },
   "source": [
    "The data is very mildly balanced towards players with careers >= 5 years $(62\\%)$"
   ]
  },
  {
   "cell_type": "markdown",
   "metadata": {},
   "source": [
    "**Question:** Why is it important to check class balance?"
   ]
  },
  {
   "cell_type": "markdown",
   "metadata": {},
   "source": [
    "* Unbalanced data can lead to bias towards the majority class and poor performance in dealing with minority class."
   ]
  },
  {
   "cell_type": "markdown",
   "metadata": {
    "id": "qgV_6xAQAvgg"
   },
   "source": [
    "## **Step 4: Results and evaluation** \n",
    "\n",
    "\n",
    "Now, perform feature engineering, with the goal of identifying and creating features that will serve as useful predictors for the target variable, `target_5yrs`. "
   ]
  },
  {
   "cell_type": "markdown",
   "metadata": {
    "id": "r-UHtsTnA5kE"
   },
   "source": [
    "### Feature selection"
   ]
  },
  {
   "cell_type": "markdown",
   "metadata": {
    "id": "atQDf16fK4in"
   },
   "source": [
    "The following table contains descriptions of the data in each column:\n",
    "\n",
    "<center>\n",
    "\n",
    "|Column Name|Column Description|\n",
    "|:---|:-------|\n",
    "|`name`|Name of NBA player|\n",
    "|`gp`|Number of games played|\n",
    "|`min`|Number of minutes played|\n",
    "|`pts`|Average number of points per game|\n",
    "|`fgm`|Average number of field goals made per game|\n",
    "|`fga`|Average number of field goal attempts per game|\n",
    "|`fg`|Average percent of field goals made per game|\n",
    "|`3p_made`|Average number of three-point field goals made per game|\n",
    "|`3pa`|Average number of three-point field goal attempts per game|\n",
    "|`3p`|Average percent of three-point field goals made per game|\n",
    "|`ftm`|Average number of free throws made per game|\n",
    "|`fta`|Average number of free throw attempts per game|\n",
    "|`ft`|Average percent of free throws made per game|\n",
    "|`oreb`|Average number of offensive rebounds per game|\n",
    "|`dreb`|Average number of defensive rebounds per game|\n",
    "|`reb`|Average number of rebounds per game|\n",
    "|`ast`|Average number of assists per game|\n",
    "|`stl`|Average number of steals per game|\n",
    "|`blk`|Average number of blocks per game|\n",
    "|`tov`|Average number of turnovers per game|\n",
    "|`target_5yrs`|1 if career duration >= 5 yrs, 0 otherwise|\n",
    "\n",
    "</center>"
   ]
  },
  {
   "cell_type": "markdown",
   "metadata": {
    "id": "uyUtq03NKe69"
   },
   "source": [
    "**Question:** Which columns would you select and avoid selecting as features, and why? Keep in mind the goal is to identify features that will serve as useful predictors for the target variable, `target_5yrs`. "
   ]
  },
  {
   "cell_type": "markdown",
   "metadata": {
    "id": "Lsur6i-azlnT"
   },
   "source": [
    "- You should avoid selecting the `name` column as a feature. A player's name is not helpful in determining their career duration. Moreover, it may not be ethical or fair to predict a player's career duration based on a name.\n",
    "- The number of games a player has played in may not be as important in determining their career duration as the number of points they have earned. While you could say that someone who has played in more games may have more practice and experience, the points they earn during the games they played in would speak more to their performance as a player. This, in turn, would influence their career duration. So, the `gp` column on its own may not be a helpful feature. However, `gp` and `pts` could be combined to get the total number of points earned across the games played, and that result could be a helpful feature. That approach can be implemented later in the feature engineering process—in feature extraction. \n",
    "- If the number of points earned across games will be extracted as a feature, then that could be combined with the number of minutes played across games (`min * gp`) to extract another feature. This could be a measure of players' efficiency and could help in predicting players' career duration. `min` on its own may not be useful as a feature for the same reason as `gp`.\n",
    "- There are three different columns that give information about field goals. The percent of field goals a player makes (`fg`) says more about their performance than the number of field goals they make (`fgm`) or the number of field goals they attempt (`fga`). The percent gives more context, as it takes into account both how many field goals a player successfully made and how many field goals they attempted in total. This allows for a more meaningful comparison between players. The same logic applies to the percent of three-point field goals made, as well as the percent of free throws made. \n",
    "- There are columns for the number offensive rebounds (`oreb`), the number of defensive rebounds (`dreb`), and the number of rebounds overall (`reb`). Because the overall number of rebounds should already incorporate both offensive and defensive rebounds, it would make sense to use the overall as a feature. \n",
    "- The number of assists (`ast`), steals (`stl`), blocks (`blk`), and turnovers (`tov`) also provide information about how well players are performing in games, and thus, could be helpful in predicting how long players last in the league. \n",
    "\n",
    "Therefore, at this stage of the feature engineering process, it would be most effective to select the following columns: \n",
    "\n",
    "`gp`, `min`, `pts`, `fg`, `3p`, `ft`, `reb`, `ast`, `stl`, `blk`, `tov`."
   ]
  },
  {
   "cell_type": "markdown",
   "metadata": {
    "id": "f0EgC-r_X_gk"
   },
   "source": [
    "Next, select the columns you want to proceed with. Make sure to include the target column, `target_5yrs`. Display the first few rows to confirm they are as expected."
   ]
  },
  {
   "cell_type": "code",
   "execution_count": 18,
   "metadata": {
    "id": "jeLHjMh_XwsU"
   },
   "outputs": [
    {
     "data": {
      "text/html": [
       "<div>\n",
       "<style scoped>\n",
       "    .dataframe tbody tr th:only-of-type {\n",
       "        vertical-align: middle;\n",
       "    }\n",
       "\n",
       "    .dataframe tbody tr th {\n",
       "        vertical-align: top;\n",
       "    }\n",
       "\n",
       "    .dataframe thead th {\n",
       "        text-align: right;\n",
       "    }\n",
       "</style>\n",
       "<table border=\"1\" class=\"dataframe\">\n",
       "  <thead>\n",
       "    <tr style=\"text-align: right;\">\n",
       "      <th></th>\n",
       "      <th>gp</th>\n",
       "      <th>min</th>\n",
       "      <th>pts</th>\n",
       "      <th>fg</th>\n",
       "      <th>3p</th>\n",
       "      <th>ft</th>\n",
       "      <th>reb</th>\n",
       "      <th>ast</th>\n",
       "      <th>stl</th>\n",
       "      <th>blk</th>\n",
       "      <th>tov</th>\n",
       "      <th>target_5yrs</th>\n",
       "    </tr>\n",
       "  </thead>\n",
       "  <tbody>\n",
       "    <tr>\n",
       "      <th>0</th>\n",
       "      <td>36</td>\n",
       "      <td>27.4</td>\n",
       "      <td>7.4</td>\n",
       "      <td>34.7</td>\n",
       "      <td>25.0</td>\n",
       "      <td>69.9</td>\n",
       "      <td>4.1</td>\n",
       "      <td>1.9</td>\n",
       "      <td>0.4</td>\n",
       "      <td>0.4</td>\n",
       "      <td>1.3</td>\n",
       "      <td>0</td>\n",
       "    </tr>\n",
       "    <tr>\n",
       "      <th>1</th>\n",
       "      <td>35</td>\n",
       "      <td>26.9</td>\n",
       "      <td>7.2</td>\n",
       "      <td>29.6</td>\n",
       "      <td>23.5</td>\n",
       "      <td>76.5</td>\n",
       "      <td>2.4</td>\n",
       "      <td>3.7</td>\n",
       "      <td>1.1</td>\n",
       "      <td>0.5</td>\n",
       "      <td>1.6</td>\n",
       "      <td>0</td>\n",
       "    </tr>\n",
       "    <tr>\n",
       "      <th>2</th>\n",
       "      <td>74</td>\n",
       "      <td>15.3</td>\n",
       "      <td>5.2</td>\n",
       "      <td>42.2</td>\n",
       "      <td>24.4</td>\n",
       "      <td>67.0</td>\n",
       "      <td>2.2</td>\n",
       "      <td>1.0</td>\n",
       "      <td>0.5</td>\n",
       "      <td>0.3</td>\n",
       "      <td>1.0</td>\n",
       "      <td>0</td>\n",
       "    </tr>\n",
       "    <tr>\n",
       "      <th>3</th>\n",
       "      <td>58</td>\n",
       "      <td>11.6</td>\n",
       "      <td>5.7</td>\n",
       "      <td>42.6</td>\n",
       "      <td>22.6</td>\n",
       "      <td>68.9</td>\n",
       "      <td>1.9</td>\n",
       "      <td>0.8</td>\n",
       "      <td>0.6</td>\n",
       "      <td>0.1</td>\n",
       "      <td>1.0</td>\n",
       "      <td>1</td>\n",
       "    </tr>\n",
       "    <tr>\n",
       "      <th>4</th>\n",
       "      <td>48</td>\n",
       "      <td>11.5</td>\n",
       "      <td>4.5</td>\n",
       "      <td>52.4</td>\n",
       "      <td>0.0</td>\n",
       "      <td>67.4</td>\n",
       "      <td>2.5</td>\n",
       "      <td>0.3</td>\n",
       "      <td>0.3</td>\n",
       "      <td>0.4</td>\n",
       "      <td>0.8</td>\n",
       "      <td>1</td>\n",
       "    </tr>\n",
       "  </tbody>\n",
       "</table>\n",
       "</div>"
      ],
      "text/plain": [
       "   gp   min  pts    fg    3p    ft  reb  ast  stl  blk  tov  target_5yrs\n",
       "0  36  27.4  7.4  34.7  25.0  69.9  4.1  1.9  0.4  0.4  1.3            0\n",
       "1  35  26.9  7.2  29.6  23.5  76.5  2.4  3.7  1.1  0.5  1.6            0\n",
       "2  74  15.3  5.2  42.2  24.4  67.0  2.2  1.0  0.5  0.3  1.0            0\n",
       "3  58  11.6  5.7  42.6  22.6  68.9  1.9  0.8  0.6  0.1  1.0            1\n",
       "4  48  11.5  4.5  52.4   0.0  67.4  2.5  0.3  0.3  0.4  0.8            1"
      ]
     },
     "execution_count": 18,
     "metadata": {},
     "output_type": "execute_result"
    }
   ],
   "source": [
    "# Select the columns to proceed with and save the DataFrame in new variable `selected_data`.\n",
    "# Include the target column, `target_5yrs`.\n",
    "\n",
    "selected_data = data[[\"gp\", \"min\", \"pts\", \"fg\", \"3p\", \"ft\", \"reb\", \"ast\", \"stl\", \"blk\", \"tov\", \"target_5yrs\"]]\n",
    "\n",
    "# Display the first few rows.\n",
    "selected_data.head()"
   ]
  },
  {
   "cell_type": "markdown",
   "metadata": {
    "id": "m9SD-zhXCLSm"
   },
   "source": [
    "### Feature transformation"
   ]
  },
  {
   "cell_type": "markdown",
   "metadata": {
    "id": "UQwsbcQHWeX1"
   },
   "source": [
    "An important aspect of feature transformation is feature encoding. If there are categorical columns that you would want to use as features, those columns should be transformed to be numerical. This technique is also known as feature encoding."
   ]
  },
  {
   "cell_type": "markdown",
   "metadata": {
    "id": "IMm2PPbvOUHb"
   },
   "source": [
    "**Question:** Why is feature transformation important to consider? Are there any transformations necessary for the features you want to use?"
   ]
  },
  {
   "cell_type": "markdown",
   "metadata": {
    "id": "Kg-1y3f2zmrg"
   },
   "source": [
    "* Many types of statistical models are designed to accept only numerical data, therefore encoding string categories as a set of booleans is important to include categorical data in a model. \n",
    "* None of the selected features require to be transformed. "
   ]
  },
  {
   "cell_type": "markdown",
   "metadata": {
    "id": "yMK4zXxQCNYH"
   },
   "source": [
    "### Feature extraction"
   ]
  },
  {
   "cell_type": "markdown",
   "metadata": {
    "id": "LwU2VgiyfLg7"
   },
   "source": [
    "Display the first few rows containing containing descriptions of the data for reference. The table is as follows:\n",
    "\n",
    "<center>\n",
    "\n",
    "|Column Name|Column Description|\n",
    "|:---|:-------|\n",
    "|`name`|Name of NBA player|\n",
    "|`gp`|Number of games played|\n",
    "|`min`|Number of minutes played per game|\n",
    "|`pts`|Average number of points per game|\n",
    "|`fgm`|Average number of field goals made per game|\n",
    "|`fga`|Average number of field goal attempts per game|\n",
    "|`fg`|Average percent of field goals made per game|\n",
    "|`3p_made`|Average number of three-point field goals made per game|\n",
    "|`3pa`|Average number of three-point field goal attempts per game|\n",
    "|`3p`|Average percent of three-point field goals made per game|\n",
    "|`ftm`|Average number of free throws made per game|\n",
    "|`fta`|Average number of free throw attempts per game|\n",
    "|`ft`|Average percent of free throws made per game|\n",
    "|`oreb`|Average number of offensive rebounds per game|\n",
    "|`dreb`|Average number of defensive rebounds per game|\n",
    "|`reb`|Average number of rebounds per game|\n",
    "|`ast`|Average number of assists per game|\n",
    "|`stl`|Average number of steals per game|\n",
    "|`blk`|Average number of blocks per game|\n",
    "|`tov`|Average number of turnovers per game|\n",
    "|`target_5yrs`|1 if career duration >= 5 yrs, 0 otherwise|\n",
    "\n",
    "</center>"
   ]
  },
  {
   "cell_type": "code",
   "execution_count": 20,
   "metadata": {
    "id": "TImr9RUzfNNk"
   },
   "outputs": [
    {
     "data": {
      "text/html": [
       "<div>\n",
       "<style scoped>\n",
       "    .dataframe tbody tr th:only-of-type {\n",
       "        vertical-align: middle;\n",
       "    }\n",
       "\n",
       "    .dataframe tbody tr th {\n",
       "        vertical-align: top;\n",
       "    }\n",
       "\n",
       "    .dataframe thead th {\n",
       "        text-align: right;\n",
       "    }\n",
       "</style>\n",
       "<table border=\"1\" class=\"dataframe\">\n",
       "  <thead>\n",
       "    <tr style=\"text-align: right;\">\n",
       "      <th></th>\n",
       "      <th>gp</th>\n",
       "      <th>min</th>\n",
       "      <th>pts</th>\n",
       "      <th>fg</th>\n",
       "      <th>3p</th>\n",
       "      <th>ft</th>\n",
       "      <th>reb</th>\n",
       "      <th>ast</th>\n",
       "      <th>stl</th>\n",
       "      <th>blk</th>\n",
       "      <th>tov</th>\n",
       "      <th>target_5yrs</th>\n",
       "    </tr>\n",
       "  </thead>\n",
       "  <tbody>\n",
       "    <tr>\n",
       "      <th>0</th>\n",
       "      <td>36</td>\n",
       "      <td>27.4</td>\n",
       "      <td>7.4</td>\n",
       "      <td>34.7</td>\n",
       "      <td>25.0</td>\n",
       "      <td>69.9</td>\n",
       "      <td>4.1</td>\n",
       "      <td>1.9</td>\n",
       "      <td>0.4</td>\n",
       "      <td>0.4</td>\n",
       "      <td>1.3</td>\n",
       "      <td>0</td>\n",
       "    </tr>\n",
       "    <tr>\n",
       "      <th>1</th>\n",
       "      <td>35</td>\n",
       "      <td>26.9</td>\n",
       "      <td>7.2</td>\n",
       "      <td>29.6</td>\n",
       "      <td>23.5</td>\n",
       "      <td>76.5</td>\n",
       "      <td>2.4</td>\n",
       "      <td>3.7</td>\n",
       "      <td>1.1</td>\n",
       "      <td>0.5</td>\n",
       "      <td>1.6</td>\n",
       "      <td>0</td>\n",
       "    </tr>\n",
       "    <tr>\n",
       "      <th>2</th>\n",
       "      <td>74</td>\n",
       "      <td>15.3</td>\n",
       "      <td>5.2</td>\n",
       "      <td>42.2</td>\n",
       "      <td>24.4</td>\n",
       "      <td>67.0</td>\n",
       "      <td>2.2</td>\n",
       "      <td>1.0</td>\n",
       "      <td>0.5</td>\n",
       "      <td>0.3</td>\n",
       "      <td>1.0</td>\n",
       "      <td>0</td>\n",
       "    </tr>\n",
       "    <tr>\n",
       "      <th>3</th>\n",
       "      <td>58</td>\n",
       "      <td>11.6</td>\n",
       "      <td>5.7</td>\n",
       "      <td>42.6</td>\n",
       "      <td>22.6</td>\n",
       "      <td>68.9</td>\n",
       "      <td>1.9</td>\n",
       "      <td>0.8</td>\n",
       "      <td>0.6</td>\n",
       "      <td>0.1</td>\n",
       "      <td>1.0</td>\n",
       "      <td>1</td>\n",
       "    </tr>\n",
       "    <tr>\n",
       "      <th>4</th>\n",
       "      <td>48</td>\n",
       "      <td>11.5</td>\n",
       "      <td>4.5</td>\n",
       "      <td>52.4</td>\n",
       "      <td>0.0</td>\n",
       "      <td>67.4</td>\n",
       "      <td>2.5</td>\n",
       "      <td>0.3</td>\n",
       "      <td>0.3</td>\n",
       "      <td>0.4</td>\n",
       "      <td>0.8</td>\n",
       "      <td>1</td>\n",
       "    </tr>\n",
       "    <tr>\n",
       "      <th>5</th>\n",
       "      <td>75</td>\n",
       "      <td>11.4</td>\n",
       "      <td>3.7</td>\n",
       "      <td>42.3</td>\n",
       "      <td>32.5</td>\n",
       "      <td>73.2</td>\n",
       "      <td>0.8</td>\n",
       "      <td>1.8</td>\n",
       "      <td>0.4</td>\n",
       "      <td>0.0</td>\n",
       "      <td>0.7</td>\n",
       "      <td>0</td>\n",
       "    </tr>\n",
       "    <tr>\n",
       "      <th>6</th>\n",
       "      <td>62</td>\n",
       "      <td>10.9</td>\n",
       "      <td>6.6</td>\n",
       "      <td>43.5</td>\n",
       "      <td>50.0</td>\n",
       "      <td>81.1</td>\n",
       "      <td>2.0</td>\n",
       "      <td>0.6</td>\n",
       "      <td>0.2</td>\n",
       "      <td>0.1</td>\n",
       "      <td>0.7</td>\n",
       "      <td>1</td>\n",
       "    </tr>\n",
       "    <tr>\n",
       "      <th>7</th>\n",
       "      <td>48</td>\n",
       "      <td>10.3</td>\n",
       "      <td>5.7</td>\n",
       "      <td>41.5</td>\n",
       "      <td>30.0</td>\n",
       "      <td>87.5</td>\n",
       "      <td>1.7</td>\n",
       "      <td>0.2</td>\n",
       "      <td>0.2</td>\n",
       "      <td>0.1</td>\n",
       "      <td>0.7</td>\n",
       "      <td>1</td>\n",
       "    </tr>\n",
       "    <tr>\n",
       "      <th>8</th>\n",
       "      <td>65</td>\n",
       "      <td>9.9</td>\n",
       "      <td>2.4</td>\n",
       "      <td>39.2</td>\n",
       "      <td>23.3</td>\n",
       "      <td>71.4</td>\n",
       "      <td>0.8</td>\n",
       "      <td>2.3</td>\n",
       "      <td>0.3</td>\n",
       "      <td>0.0</td>\n",
       "      <td>1.1</td>\n",
       "      <td>0</td>\n",
       "    </tr>\n",
       "    <tr>\n",
       "      <th>9</th>\n",
       "      <td>42</td>\n",
       "      <td>8.5</td>\n",
       "      <td>3.7</td>\n",
       "      <td>38.3</td>\n",
       "      <td>21.4</td>\n",
       "      <td>67.8</td>\n",
       "      <td>1.1</td>\n",
       "      <td>0.3</td>\n",
       "      <td>0.2</td>\n",
       "      <td>0.0</td>\n",
       "      <td>0.7</td>\n",
       "      <td>0</td>\n",
       "    </tr>\n",
       "  </tbody>\n",
       "</table>\n",
       "</div>"
      ],
      "text/plain": [
       "   gp   min  pts    fg    3p    ft  reb  ast  stl  blk  tov  target_5yrs\n",
       "0  36  27.4  7.4  34.7  25.0  69.9  4.1  1.9  0.4  0.4  1.3            0\n",
       "1  35  26.9  7.2  29.6  23.5  76.5  2.4  3.7  1.1  0.5  1.6            0\n",
       "2  74  15.3  5.2  42.2  24.4  67.0  2.2  1.0  0.5  0.3  1.0            0\n",
       "3  58  11.6  5.7  42.6  22.6  68.9  1.9  0.8  0.6  0.1  1.0            1\n",
       "4  48  11.5  4.5  52.4   0.0  67.4  2.5  0.3  0.3  0.4  0.8            1\n",
       "5  75  11.4  3.7  42.3  32.5  73.2  0.8  1.8  0.4  0.0  0.7            0\n",
       "6  62  10.9  6.6  43.5  50.0  81.1  2.0  0.6  0.2  0.1  0.7            1\n",
       "7  48  10.3  5.7  41.5  30.0  87.5  1.7  0.2  0.2  0.1  0.7            1\n",
       "8  65   9.9  2.4  39.2  23.3  71.4  0.8  2.3  0.3  0.0  1.1            0\n",
       "9  42   8.5  3.7  38.3  21.4  67.8  1.1  0.3  0.2  0.0  0.7            0"
      ]
     },
     "execution_count": 20,
     "metadata": {},
     "output_type": "execute_result"
    }
   ],
   "source": [
    "# Display the first few rows of `selected_data` for reference.\n",
    "selected_data.head(10)"
   ]
  },
  {
   "cell_type": "markdown",
   "metadata": {
    "id": "c5GvdO_Ddgcv"
   },
   "source": [
    "**Question:** Which columns lend themselves to feature extraction?"
   ]
  },
  {
   "cell_type": "markdown",
   "metadata": {
    "id": "XrDQ4Qzezoo2"
   },
   "source": [
    "* `gp`, `min` and `pts` can all be engineered to add additional metrics such as totoal points scored in all games or average points per minute. "
   ]
  },
  {
   "cell_type": "markdown",
   "metadata": {
    "id": "TzdzdImXmlVV"
   },
   "source": [
    "Extract two features that you think would help predict `target_5yrs`. Then, create a new variable named 'extracted_data' that contains features from 'selected_data', as well as the features being extracted."
   ]
  },
  {
   "cell_type": "code",
   "execution_count": 24,
   "metadata": {
    "id": "-oKr7ZPumP4X"
   },
   "outputs": [
    {
     "name": "stderr",
     "output_type": "stream",
     "text": [
      "/tmp/ipykernel_994057/2375969513.py:5: SettingWithCopyWarning: \n",
      "A value is trying to be set on a copy of a slice from a DataFrame.\n",
      "Try using .loc[row_indexer,col_indexer] = value instead\n",
      "\n",
      "See the caveats in the documentation: https://pandas.pydata.org/pandas-docs/stable/user_guide/indexing.html#returning-a-view-versus-a-copy\n",
      "  selected_data['tot_pts'] = selected_data['gp'] * selected_data['pts']\n",
      "/tmp/ipykernel_994057/2375969513.py:8: SettingWithCopyWarning: \n",
      "A value is trying to be set on a copy of a slice from a DataFrame.\n",
      "Try using .loc[row_indexer,col_indexer] = value instead\n",
      "\n",
      "See the caveats in the documentation: https://pandas.pydata.org/pandas-docs/stable/user_guide/indexing.html#returning-a-view-versus-a-copy\n",
      "  selected_data['pts_eff'] = selected_data['pts'] / selected_data['min']\n"
     ]
    },
    {
     "data": {
      "text/html": [
       "<div>\n",
       "<style scoped>\n",
       "    .dataframe tbody tr th:only-of-type {\n",
       "        vertical-align: middle;\n",
       "    }\n",
       "\n",
       "    .dataframe tbody tr th {\n",
       "        vertical-align: top;\n",
       "    }\n",
       "\n",
       "    .dataframe thead th {\n",
       "        text-align: right;\n",
       "    }\n",
       "</style>\n",
       "<table border=\"1\" class=\"dataframe\">\n",
       "  <thead>\n",
       "    <tr style=\"text-align: right;\">\n",
       "      <th></th>\n",
       "      <th>gp</th>\n",
       "      <th>min</th>\n",
       "      <th>pts</th>\n",
       "      <th>fg</th>\n",
       "      <th>3p</th>\n",
       "      <th>ft</th>\n",
       "      <th>reb</th>\n",
       "      <th>ast</th>\n",
       "      <th>stl</th>\n",
       "      <th>blk</th>\n",
       "      <th>tov</th>\n",
       "      <th>target_5yrs</th>\n",
       "      <th>tot_pts</th>\n",
       "      <th>pts_eff</th>\n",
       "    </tr>\n",
       "  </thead>\n",
       "  <tbody>\n",
       "    <tr>\n",
       "      <th>0</th>\n",
       "      <td>36</td>\n",
       "      <td>27.4</td>\n",
       "      <td>7.4</td>\n",
       "      <td>34.7</td>\n",
       "      <td>25.0</td>\n",
       "      <td>69.9</td>\n",
       "      <td>4.1</td>\n",
       "      <td>1.9</td>\n",
       "      <td>0.4</td>\n",
       "      <td>0.4</td>\n",
       "      <td>1.3</td>\n",
       "      <td>0</td>\n",
       "      <td>266.4</td>\n",
       "      <td>0.270073</td>\n",
       "    </tr>\n",
       "    <tr>\n",
       "      <th>1</th>\n",
       "      <td>35</td>\n",
       "      <td>26.9</td>\n",
       "      <td>7.2</td>\n",
       "      <td>29.6</td>\n",
       "      <td>23.5</td>\n",
       "      <td>76.5</td>\n",
       "      <td>2.4</td>\n",
       "      <td>3.7</td>\n",
       "      <td>1.1</td>\n",
       "      <td>0.5</td>\n",
       "      <td>1.6</td>\n",
       "      <td>0</td>\n",
       "      <td>252.0</td>\n",
       "      <td>0.267658</td>\n",
       "    </tr>\n",
       "    <tr>\n",
       "      <th>2</th>\n",
       "      <td>74</td>\n",
       "      <td>15.3</td>\n",
       "      <td>5.2</td>\n",
       "      <td>42.2</td>\n",
       "      <td>24.4</td>\n",
       "      <td>67.0</td>\n",
       "      <td>2.2</td>\n",
       "      <td>1.0</td>\n",
       "      <td>0.5</td>\n",
       "      <td>0.3</td>\n",
       "      <td>1.0</td>\n",
       "      <td>0</td>\n",
       "      <td>384.8</td>\n",
       "      <td>0.339869</td>\n",
       "    </tr>\n",
       "    <tr>\n",
       "      <th>3</th>\n",
       "      <td>58</td>\n",
       "      <td>11.6</td>\n",
       "      <td>5.7</td>\n",
       "      <td>42.6</td>\n",
       "      <td>22.6</td>\n",
       "      <td>68.9</td>\n",
       "      <td>1.9</td>\n",
       "      <td>0.8</td>\n",
       "      <td>0.6</td>\n",
       "      <td>0.1</td>\n",
       "      <td>1.0</td>\n",
       "      <td>1</td>\n",
       "      <td>330.6</td>\n",
       "      <td>0.491379</td>\n",
       "    </tr>\n",
       "    <tr>\n",
       "      <th>4</th>\n",
       "      <td>48</td>\n",
       "      <td>11.5</td>\n",
       "      <td>4.5</td>\n",
       "      <td>52.4</td>\n",
       "      <td>0.0</td>\n",
       "      <td>67.4</td>\n",
       "      <td>2.5</td>\n",
       "      <td>0.3</td>\n",
       "      <td>0.3</td>\n",
       "      <td>0.4</td>\n",
       "      <td>0.8</td>\n",
       "      <td>1</td>\n",
       "      <td>216.0</td>\n",
       "      <td>0.391304</td>\n",
       "    </tr>\n",
       "  </tbody>\n",
       "</table>\n",
       "</div>"
      ],
      "text/plain": [
       "   gp   min  pts    fg    3p    ft  reb  ast  stl  blk  tov  target_5yrs  \\\n",
       "0  36  27.4  7.4  34.7  25.0  69.9  4.1  1.9  0.4  0.4  1.3            0   \n",
       "1  35  26.9  7.2  29.6  23.5  76.5  2.4  3.7  1.1  0.5  1.6            0   \n",
       "2  74  15.3  5.2  42.2  24.4  67.0  2.2  1.0  0.5  0.3  1.0            0   \n",
       "3  58  11.6  5.7  42.6  22.6  68.9  1.9  0.8  0.6  0.1  1.0            1   \n",
       "4  48  11.5  4.5  52.4   0.0  67.4  2.5  0.3  0.3  0.4  0.8            1   \n",
       "\n",
       "   tot_pts   pts_eff  \n",
       "0    266.4  0.270073  \n",
       "1    252.0  0.267658  \n",
       "2    384.8  0.339869  \n",
       "3    330.6  0.491379  \n",
       "4    216.0  0.391304  "
      ]
     },
     "execution_count": 24,
     "metadata": {},
     "output_type": "execute_result"
    }
   ],
   "source": [
    "# Extract two features that would help predict target_5yrs.\n",
    "# Create a new variable named `extracted_data`.\n",
    "\n",
    "# Estimate total number of points scored during career\n",
    "selected_data['tot_pts'] = selected_data['gp'] * selected_data['pts']\n",
    "\n",
    "# Estimate average nummber of points scored per game minute, called pts_eff\n",
    "selected_data['pts_eff'] = selected_data['pts'] / selected_data['min']\n",
    "\n",
    "# Display the first few rows \n",
    "selected_data.head()"
   ]
  },
  {
   "cell_type": "markdown",
   "metadata": {
    "id": "_HSGCXKZt61x"
   },
   "source": [
    "Now, to prepare for the Naive Bayes model that you will build in a later lab, clean the extracted data and ensure ensure it is concise. Naive Bayes involves an assumption that features are independent of each other given the class. In order to satisfy that criteria, if certain features are aggregated to yield new features, it may be necessary to remove those original features. Therefore, drop the columns that were used to extract new features.\n",
    "\n",
    "**Note:** There are other types of models that do not involve independence assumptions, so this would not be required in those instances. In fact, keeping the original features may be beneficial."
   ]
  },
  {
   "cell_type": "code",
   "execution_count": 25,
   "metadata": {
    "id": "9kF4nRy5r1DV"
   },
   "outputs": [
    {
     "data": {
      "text/html": [
       "<div>\n",
       "<style scoped>\n",
       "    .dataframe tbody tr th:only-of-type {\n",
       "        vertical-align: middle;\n",
       "    }\n",
       "\n",
       "    .dataframe tbody tr th {\n",
       "        vertical-align: top;\n",
       "    }\n",
       "\n",
       "    .dataframe thead th {\n",
       "        text-align: right;\n",
       "    }\n",
       "</style>\n",
       "<table border=\"1\" class=\"dataframe\">\n",
       "  <thead>\n",
       "    <tr style=\"text-align: right;\">\n",
       "      <th></th>\n",
       "      <th>fg</th>\n",
       "      <th>3p</th>\n",
       "      <th>ft</th>\n",
       "      <th>reb</th>\n",
       "      <th>ast</th>\n",
       "      <th>stl</th>\n",
       "      <th>blk</th>\n",
       "      <th>tov</th>\n",
       "      <th>target_5yrs</th>\n",
       "      <th>tot_pts</th>\n",
       "      <th>pts_eff</th>\n",
       "    </tr>\n",
       "  </thead>\n",
       "  <tbody>\n",
       "    <tr>\n",
       "      <th>0</th>\n",
       "      <td>34.7</td>\n",
       "      <td>25.0</td>\n",
       "      <td>69.9</td>\n",
       "      <td>4.1</td>\n",
       "      <td>1.9</td>\n",
       "      <td>0.4</td>\n",
       "      <td>0.4</td>\n",
       "      <td>1.3</td>\n",
       "      <td>0</td>\n",
       "      <td>266.4</td>\n",
       "      <td>0.270073</td>\n",
       "    </tr>\n",
       "    <tr>\n",
       "      <th>1</th>\n",
       "      <td>29.6</td>\n",
       "      <td>23.5</td>\n",
       "      <td>76.5</td>\n",
       "      <td>2.4</td>\n",
       "      <td>3.7</td>\n",
       "      <td>1.1</td>\n",
       "      <td>0.5</td>\n",
       "      <td>1.6</td>\n",
       "      <td>0</td>\n",
       "      <td>252.0</td>\n",
       "      <td>0.267658</td>\n",
       "    </tr>\n",
       "    <tr>\n",
       "      <th>2</th>\n",
       "      <td>42.2</td>\n",
       "      <td>24.4</td>\n",
       "      <td>67.0</td>\n",
       "      <td>2.2</td>\n",
       "      <td>1.0</td>\n",
       "      <td>0.5</td>\n",
       "      <td>0.3</td>\n",
       "      <td>1.0</td>\n",
       "      <td>0</td>\n",
       "      <td>384.8</td>\n",
       "      <td>0.339869</td>\n",
       "    </tr>\n",
       "    <tr>\n",
       "      <th>3</th>\n",
       "      <td>42.6</td>\n",
       "      <td>22.6</td>\n",
       "      <td>68.9</td>\n",
       "      <td>1.9</td>\n",
       "      <td>0.8</td>\n",
       "      <td>0.6</td>\n",
       "      <td>0.1</td>\n",
       "      <td>1.0</td>\n",
       "      <td>1</td>\n",
       "      <td>330.6</td>\n",
       "      <td>0.491379</td>\n",
       "    </tr>\n",
       "    <tr>\n",
       "      <th>4</th>\n",
       "      <td>52.4</td>\n",
       "      <td>0.0</td>\n",
       "      <td>67.4</td>\n",
       "      <td>2.5</td>\n",
       "      <td>0.3</td>\n",
       "      <td>0.3</td>\n",
       "      <td>0.4</td>\n",
       "      <td>0.8</td>\n",
       "      <td>1</td>\n",
       "      <td>216.0</td>\n",
       "      <td>0.391304</td>\n",
       "    </tr>\n",
       "  </tbody>\n",
       "</table>\n",
       "</div>"
      ],
      "text/plain": [
       "     fg    3p    ft  reb  ast  stl  blk  tov  target_5yrs  tot_pts   pts_eff\n",
       "0  34.7  25.0  69.9  4.1  1.9  0.4  0.4  1.3            0    266.4  0.270073\n",
       "1  29.6  23.5  76.5  2.4  3.7  1.1  0.5  1.6            0    252.0  0.267658\n",
       "2  42.2  24.4  67.0  2.2  1.0  0.5  0.3  1.0            0    384.8  0.339869\n",
       "3  42.6  22.6  68.9  1.9  0.8  0.6  0.1  1.0            1    330.6  0.491379\n",
       "4  52.4   0.0  67.4  2.5  0.3  0.3  0.4  0.8            1    216.0  0.391304"
      ]
     },
     "execution_count": 25,
     "metadata": {},
     "output_type": "execute_result"
    }
   ],
   "source": [
    "# Remove any columns from `extracted_data` that are no longer needed.\n",
    "extracted_data = selected_data.drop(columns = ['gp', 'pts', 'min'])\n",
    "\n",
    "# Display the first few rows of `extracted_data` to ensure that column drops took place.\n",
    "extracted_data.head()\n"
   ]
  },
  {
   "cell_type": "markdown",
   "metadata": {
    "id": "T-_ViHlcwlik"
   },
   "source": [
    "Next, export the extracted data as a new .csv file. You will use this in a later lab. "
   ]
  },
  {
   "cell_type": "code",
   "execution_count": 26,
   "metadata": {
    "id": "gZ_DdQx1xIaN"
   },
   "outputs": [],
   "source": [
    "# Export the extracted data.\n",
    "extracted_data.to_csv(\"extracted_nba_players_data_drs.csv\")\n"
   ]
  },
  {
   "cell_type": "markdown",
   "metadata": {
    "id": "xur2FC5xAzp0"
   },
   "source": [
    "## **Considerations**\n"
   ]
  },
  {
   "cell_type": "markdown",
   "metadata": {
    "id": "cEvvjB_Pgcz6"
   },
   "source": [
    "**What are some key takeaways that you learned during this lab? Consider the process you followed and what tasks were performed during each step, as well as important priorities when training data.**"
   ]
  },
  {
   "cell_type": "markdown",
   "metadata": {
    "id": "GDDqO95rgfDP"
   },
   "source": [
    "- It is important to check for class balance in a dataset, particularly in the context of feature engineering and predictive modeling. If the target column in a dataset has more than 90% of its values belonging to one class, it is recommended to redistribute the data; otherwise, once a model is trained on the imbalanced data and predictions are made, the predictions may be biased. \n",
    "- Feature selection involves choosing features that help predict the target variable and removing columns that may not be helpful for prediction. In this process, and throughout feature engineering, it is important to make ethical considerations.  \n",
    "- Feature transformation involves transforming features so that they are more usable for future modeling purposes, which includes encoding categorical features to turn them into numerical features. \n",
    "- Feature extraction involves combining existing columns meaningfully to construct new features that would help improve prediction. "
   ]
  },
  {
   "cell_type": "markdown",
   "metadata": {
    "id": "WvBogkdfggKN"
   },
   "source": [
    "**What summary would you provide to stakeholders? Consider key attributes to be shared from the data, as well as upcoming project plans.**"
   ]
  },
  {
   "cell_type": "markdown",
   "metadata": {
    "id": "8d2_JyVFgg0r"
   },
   "source": [
    "- The following attributes about player performance could help predict their NBA career duration and should be included in a presentation to stakeholders: field goals, three-point field goals, free throws, rebounds, assists, steals, blocks, turnovers, total points, and efficiency as points per minute. \n",
    "- It would be important to explain that these attributes, along with a relevant dataset, will be used in the next stage of the project. At that point, a model will be built to predict a player's career duration. Insights gained will be shared with stakeholders once the project is complete. Stakeholders would also appreciate being provided with a timeline and key deliverables that they can expect to receive."
   ]
  }
 ],
 "metadata": {
  "colab": {
   "collapsed_sections": [],
   "provenance": []
  },
  "kernelspec": {
   "display_name": "Python 3",
   "language": "python",
   "name": "python3"
  },
  "language_info": {
   "codemirror_mode": {
    "name": "ipython",
    "version": 3
   },
   "file_extension": ".py",
   "mimetype": "text/x-python",
   "name": "python",
   "nbconvert_exporter": "python",
   "pygments_lexer": "ipython3",
   "version": "3.10.13"
  }
 },
 "nbformat": 4,
 "nbformat_minor": 1
}
